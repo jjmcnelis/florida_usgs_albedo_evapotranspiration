{
 "cells": [
  {
   "cell_type": "markdown",
   "metadata": {},
   "source": [
    "## MCD43\n",
    "\n",
    "\n",
    "## Processing \n",
    "\n",
    "### MCD43A3\n",
    "\n",
    "MCD43A3 has black- and white-sky albedo calculated for local solar noon observations only, so it resembles a piece of our result.\n",
    "\n",
    "Open the dataset for MCD43A3 with `xr.open_dataset`:"
   ]
  },
  {
   "cell_type": "code",
   "execution_count": 1,
   "metadata": {},
   "outputs": [
    {
     "data": {
      "text/plain": [
       "['data/MCD43A1-Florida-2016-request.json',\n",
       " 'data/mcd43a1_one_pixel.nc4',\n",
       " 'data/MCD43A1.2017.nc',\n",
       " 'data/MCD43A1-Florida-2015-request.json',\n",
       " 'data/skyl_lut.dat',\n",
       " 'data/MCD43A1-Florida-2018-request.json',\n",
       " 'data/MCD43A1-Florida-2017-request.json',\n",
       " 'data/MCD43A1.2015.nc',\n",
       " 'data/MCD43A1.2018.nc',\n",
       " 'data/MCD43A1.2016.nc']"
      ]
     },
     "execution_count": 1,
     "metadata": {},
     "output_type": "execute_result"
    }
   ],
   "source": [
    "import glob\n",
    "\n",
    "glob.glob(\"data/*\")"
   ]
  },
  {
   "cell_type": "code",
   "execution_count": 3,
   "metadata": {},
   "outputs": [],
   "source": [
    "%matplotlib inline\n",
    "\n",
    "## plotting only -->>\n",
    "import cartopy.feature as feat\n",
    "import cartopy.crs as ccrs\n",
    "import matplotlib.pyplot as plt\n",
    "import matplotlib\n",
    "matplotlib.rc('font', **{\n",
    "    'family': 'normal', \n",
    "    'weight': 'normal', \n",
    "    'size': 20})\n",
    "\n",
    "## processing -->>\n",
    "from pyproj import Proj, transform\n",
    "import xarray as xr   \n",
    "import pandas as pd\n",
    "import numpy as np \n",
    "import datetime\n",
    "import sys"
   ]
  },
  {
   "cell_type": "markdown",
   "metadata": {},
   "source": [
    "## P"
   ]
  },
  {
   "cell_type": "code",
   "execution_count": 1,
   "metadata": {},
   "outputs": [
    {
     "ename": "NameError",
     "evalue": "name 'xr' is not defined",
     "output_type": "error",
     "traceback": [
      "\u001b[0;31m---------------------------------------------------------------------------\u001b[0m",
      "\u001b[0;31mNameError\u001b[0m                                 Traceback (most recent call last)",
      "\u001b[0;32m<ipython-input-1-c13776e7e330>\u001b[0m in \u001b[0;36m<module>\u001b[0;34m\u001b[0m\n\u001b[1;32m      1\u001b[0m \u001b[0mnetcdf\u001b[0m \u001b[0;34m=\u001b[0m \u001b[0;34m\"data/MCD43A3.006_500m_aid0001.nc\"\u001b[0m\u001b[0;34m\u001b[0m\u001b[0;34m\u001b[0m\u001b[0m\n\u001b[1;32m      2\u001b[0m \u001b[0;34m\u001b[0m\u001b[0m\n\u001b[0;32m----> 3\u001b[0;31m \u001b[0mds\u001b[0m \u001b[0;34m=\u001b[0m \u001b[0mxr\u001b[0m\u001b[0;34m.\u001b[0m\u001b[0mopen_dataset\u001b[0m\u001b[0;34m(\u001b[0m\u001b[0mnetcdf\u001b[0m\u001b[0;34m)\u001b[0m \u001b[0;31m# open to xr.Dataset struct\u001b[0m\u001b[0;34m\u001b[0m\u001b[0;34m\u001b[0m\u001b[0m\n\u001b[0m\u001b[1;32m      4\u001b[0m \u001b[0mds\u001b[0m \u001b[0;34m=\u001b[0m \u001b[0mds\u001b[0m\u001b[0;34m.\u001b[0m\u001b[0mrename\u001b[0m\u001b[0;34m(\u001b[0m\u001b[0;34m{\u001b[0m\u001b[0;34m\"xdim\"\u001b[0m\u001b[0;34m:\u001b[0m \u001b[0;34m\"x\"\u001b[0m\u001b[0;34m,\u001b[0m \u001b[0;34m\"ydim\"\u001b[0m\u001b[0;34m:\u001b[0m \u001b[0;34m\"y\"\u001b[0m\u001b[0;34m}\u001b[0m\u001b[0;34m)\u001b[0m \u001b[0;31m# rename dims x,y to stndrd\u001b[0m\u001b[0;34m\u001b[0m\u001b[0;34m\u001b[0m\u001b[0m\n\u001b[1;32m      5\u001b[0m \u001b[0;34m\u001b[0m\u001b[0m\n",
      "\u001b[0;31mNameError\u001b[0m: name 'xr' is not defined"
     ]
    }
   ],
   "source": [
    "netcdf = \"data/MCD43A3.006_500m_aid0001.nc\"\n",
    "\n",
    "ds = xr.open_dataset(netcdf) # open to xr.Dataset struct\n",
    "ds = ds.rename({\"xdim\": \"x\", \"ydim\": \"y\"}) # rename dims x,y to stndrd\n",
    "\n",
    "ds"
   ]
  },
  {
   "cell_type": "code",
   "execution_count": null,
   "metadata": {},
   "outputs": [],
   "source": []
  },
  {
   "cell_type": "code",
   "execution_count": null,
   "metadata": {},
   "outputs": [],
   "source": [
    "bsa = ds[\"Albedo_BSA_nir\"]; bsa    # select the BSA"
   ]
  },
  {
   "cell_type": "markdown",
   "metadata": {},
   "source": [
    "### Check spatial references\n",
    "\n",
    "It's probably a good idea to do more thorough review to make sure there are no mistakes. You can do a lot of indexing and stats calculation in a single line of code. But break it out into a couple distinct steps:\n",
    "1. select the **black-sky albedo** variable\n",
    "2. plot the first timestep with `cartopy`\n",
    "3. plot the **gridded averages by month**\n",
    "4. plot a single line for the daily time series over all of Florida\n",
    "\n",
    "**Plot the first timestep:**"
   ]
  },
  {
   "cell_type": "code",
   "execution_count": null,
   "metadata": {},
   "outputs": [],
   "source": [
    "fig = plt.figure(figsize=(11, 10))\n",
    "ax = fig.add_subplot(1, 1, 1, projection=ccrs.Sinusoidal.MODIS)\n",
    "bsa.isel(time=0).plot.pcolormesh(x=\"x\", y=\"y\", ax=ax, robust=True,)\n",
    "\n",
    "# optional, aesthetics -->>\n",
    "ax.set_yticklabels([]); ax.set_xticklabels([]);\n",
    "ax.add_feature(feat.OCEAN, zorder=0);\n",
    "ax.add_feature(feat.LAND, zorder=0, edgecolor='black');\n",
    "ax.gridlines(color=\"white\", alpha=0.25); #ax.set_global();"
   ]
  },
  {
   "cell_type": "markdown",
   "metadata": {},
   "source": [
    "**Plot monthly gridded averages:**"
   ]
  },
  {
   "cell_type": "code",
   "execution_count": null,
   "metadata": {},
   "outputs": [],
   "source": [
    "bsamo = bsa.groupby(bsa.time.dt.month).mean(\"time\")\n",
    "bsamo.plot.pcolormesh(\n",
    "    x='x', \n",
    "    y='y', \n",
    "    col='month', \n",
    "    col_wrap=3, \n",
    "    robust=True, \n",
    "    figsize=(16, 18))\n",
    "\n",
    "#ax = plt.gca()\n",
    "#ax.set_yticklabels([]); ax.set_xticklabels([]);\n",
    "#ax.set_ylabel(\"\"); ax.set_xlabel(\"\");"
   ]
  },
  {
   "cell_type": "markdown",
   "metadata": {},
   "source": [
    "**The daily average of BSA over the state of Florida for 2018:**"
   ]
  },
  {
   "cell_type": "code",
   "execution_count": null,
   "metadata": {},
   "outputs": [],
   "source": [
    "bsa.mean([\"x\",\"y\"]).plot(x=\"time\", figsize=(14, 5))"
   ]
  }
 ],
 "metadata": {
  "kernelspec": {
   "display_name": "Python 3",
   "language": "python",
   "name": "python3"
  },
  "language_info": {
   "codemirror_mode": {
    "name": "ipython",
    "version": 3
   },
   "file_extension": ".py",
   "mimetype": "text/x-python",
   "name": "python",
   "nbconvert_exporter": "python",
   "pygments_lexer": "ipython3",
   "version": "3.7.3"
  },
  "toc": {
   "base_numbering": 1,
   "nav_menu": {},
   "number_sections": true,
   "sideBar": true,
   "skip_h1_title": true,
   "title_cell": "Table of Contents",
   "title_sidebar": "Contents",
   "toc_cell": false,
   "toc_position": {
    "height": "calc(100% - 180px)",
    "left": "10px",
    "top": "150px",
    "width": "307.2px"
   },
   "toc_section_display": true,
   "toc_window_display": true
  }
 },
 "nbformat": 4,
 "nbformat_minor": 2
}
