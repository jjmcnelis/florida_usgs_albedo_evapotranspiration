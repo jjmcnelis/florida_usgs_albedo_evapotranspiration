{
 "cells": [
  {
   "cell_type": "markdown",
   "metadata": {
    "toc": true
   },
   "source": [
    "<h1>Table of Contents<span class=\"tocSkip\"></span></h1>\n",
    "<div class=\"toc\"><ul class=\"toc-item\"><li><span><a href=\"#Validate-with-ORNL-DAAC-Subset\" data-toc-modified-id=\"Validate-with-ORNL-DAAC-Subset-1\"><span class=\"toc-item-num\">1&nbsp;&nbsp;</span>Validate with ORNL DAAC Subset</a></span><ul class=\"toc-item\"><li><span><a href=\"#Request-a-subset\" data-toc-modified-id=\"Request-a-subset-1.1\"><span class=\"toc-item-num\">1.1&nbsp;&nbsp;</span>Request a subset</a></span></li><li><span><a href=\"#Subset-CSVs\" data-toc-modified-id=\"Subset-CSVs-1.2\"><span class=\"toc-item-num\">1.2&nbsp;&nbsp;</span>Subset CSVs</a></span></li></ul></li><li><span><a href=\"#Validate-with-MCD43A3-Albedos\" data-toc-modified-id=\"Validate-with-MCD43A3-Albedos-2\"><span class=\"toc-item-num\">2&nbsp;&nbsp;</span>Validate with MCD43A3 Albedos</a></span></li></ul></div>"
   ]
  },
  {
   "cell_type": "markdown",
   "metadata": {},
   "source": [
    "# Validation\n",
    "\n",
    "## Validate with ORNL DAAC Subset\n",
    "\n",
    "### Request a subset\n",
    "You can get a subset like the one below (or for 20+ other MODIS/VIIRS land products) by visiting **https://modis.ornl.gov** and clicking the **Get Data** link. The subset that I used comes from the *Global Tool*; the daily MCD43 products are not available through the web service. I requested a random point somewhere in/near the everglades and the ORNL DAAC's backend computed the black, white, and blue sky albedos from the MCD43A1 parameters just like we did. Input parameters called for solar zenith angles calculated for **local noon** and the optical depth parameter was set to **0.20**:             \n",
    "https://modis.ornl.gov/subsetdata/03Jul2019_13:43:49_346167250L28.27149L-81.9668S1L1_MCD43A/\n"
   ]
  },
  {
   "cell_type": "code",
   "execution_count": 1,
   "metadata": {},
   "outputs": [
    {
     "name": "stdout",
     "output_type": "stream",
     "text": [
      "Request URL:\n",
      "https://modis.ornl.gov/rst/api/v1/MOD13Q1/subsetOrder?latitude=28.27149&longitude=-81.9668&email=jjmcnelis%40outlook.com&uid=beta&startDate=A2012001&endDate=A2012111&kmAboveBelow=0&kmLeftRight=0\n"
     ]
    }
   ],
   "source": [
    "import requests\n",
    "\n",
    "request_url = (\n",
    "    \"https://modis.ornl.gov/rst/api/v1/MOD13Q1/subsetOrder?\"\n",
    "    \"latitude={lat}&\"\n",
    "    \"longitude={lon}&\"\n",
    "    \"email=jjmcnelis%40outlook.com&\"\n",
    "    \"uid={uid}&\"\n",
    "    \"startDate={stdt}&\"\n",
    "    \"endDate={enddt}&\"\n",
    "    \"kmAboveBelow={ab}&\"\n",
    "    \"kmLeftRight={lr}\"\n",
    ").format(\n",
    "    lat   =  28.27149,\n",
    "    lon   = -81.9668,\n",
    "    uid   = \"beta\",\n",
    "    stdt  = \"A2012001\",\n",
    "    enddt = \"A2012111\",\n",
    "    ab    =  0,\n",
    "    lr    =  0\n",
    ")\n",
    "\n",
    "print(\"Request URL:\\n\"+request_url)"
   ]
  },
  {
   "cell_type": "markdown",
   "metadata": {},
   "source": [
    "Request the subset:"
   ]
  },
  {
   "cell_type": "code",
   "execution_count": 2,
   "metadata": {},
   "outputs": [
    {
     "name": "stdout",
     "output_type": "stream",
     "text": [
      "Order ID:\n",
      "{\n",
      "  \"order_id\": \"04Jul2019_13:58:28_128771258L28.27149L-81.9668S1L1_MOD13Q1_beta\"\n",
      "}\n",
      "\n"
     ]
    }
   ],
   "source": [
    "response = requests.get(request_url)\n",
    "\n",
    "if response.status_code==200:\n",
    "    orderid = response.text\n",
    "    print(\"Order ID:\"); print(orderid)\n",
    "else:\n",
    "    print(response.text)"
   ]
  },
  {
   "cell_type": "markdown",
   "metadata": {},
   "source": [
    "This might help you make sense of that *\"order_id\"* string:\n",
    "```python\n",
    "order_id = (\n",
    "    \"https://modis.ornl.gov/subsetdata/\"     # global tool orders dir\n",
    "    \"03Jul2019_13:43:49_346167250\"           # order id\n",
    "    \"L28.27149\"                              # latitude of center\n",
    "    \"L-81.9668\"                              # longitude of center\n",
    "    \"S1L1_MCD43A/\")                          # black, white, blue albedos\n",
    "```\n",
    "\n",
    "### Subset CSVs\n",
    "Download the CSVs for near-infrared black, white, and blue albedos and parse them to data frames:"
   ]
  },
  {
   "cell_type": "code",
   "execution_count": 3,
   "metadata": {},
   "outputs": [
    {
     "data": {
      "text/html": [
       "<div>\n",
       "<style scoped>\n",
       "    .dataframe tbody tr th:only-of-type {\n",
       "        vertical-align: middle;\n",
       "    }\n",
       "\n",
       "    .dataframe tbody tr th {\n",
       "        vertical-align: top;\n",
       "    }\n",
       "\n",
       "    .dataframe thead th {\n",
       "        text-align: right;\n",
       "    }\n",
       "</style>\n",
       "<table border=\"1\" class=\"dataframe\">\n",
       "  <thead>\n",
       "    <tr style=\"text-align: right;\">\n",
       "      <th></th>\n",
       "      <th>id</th>\n",
       "      <th>prod</th>\n",
       "      <th>mdate</th>\n",
       "      <th>loc</th>\n",
       "      <th>pdate</th>\n",
       "      <th>var</th>\n",
       "      <th>data</th>\n",
       "    </tr>\n",
       "  </thead>\n",
       "  <tbody>\n",
       "    <tr>\n",
       "      <th>2018-01-01</th>\n",
       "      <td>MCD43A.A2018001.h10v06.006.2018010031010.nir_b...</td>\n",
       "      <td>MCD43A</td>\n",
       "      <td>A2018001</td>\n",
       "      <td>Lat28.27149Lon-81.9668Samp1Line1</td>\n",
       "      <td>2018010031010</td>\n",
       "      <td>nir_black</td>\n",
       "      <td>0.188892</td>\n",
       "    </tr>\n",
       "    <tr>\n",
       "      <th>2018-01-02</th>\n",
       "      <td>MCD43A.A2018002.h10v06.006.2018011031030.nir_b...</td>\n",
       "      <td>MCD43A</td>\n",
       "      <td>A2018002</td>\n",
       "      <td>Lat28.27149Lon-81.9668Samp1Line1</td>\n",
       "      <td>2018011031030</td>\n",
       "      <td>nir_black</td>\n",
       "      <td>0.183267</td>\n",
       "    </tr>\n",
       "    <tr>\n",
       "      <th>2018-01-03</th>\n",
       "      <td>MCD43A.A2018003.h10v06.006.2018012030820.nir_b...</td>\n",
       "      <td>MCD43A</td>\n",
       "      <td>A2018003</td>\n",
       "      <td>Lat28.27149Lon-81.9668Samp1Line1</td>\n",
       "      <td>2018012030820</td>\n",
       "      <td>nir_black</td>\n",
       "      <td>0.183281</td>\n",
       "    </tr>\n",
       "    <tr>\n",
       "      <th>2018-01-04</th>\n",
       "      <td>MCD43A.A2018004.h10v06.006.2018013032552.nir_b...</td>\n",
       "      <td>MCD43A</td>\n",
       "      <td>A2018004</td>\n",
       "      <td>Lat28.27149Lon-81.9668Samp1Line1</td>\n",
       "      <td>2018013032552</td>\n",
       "      <td>nir_black</td>\n",
       "      <td>0.183250</td>\n",
       "    </tr>\n",
       "    <tr>\n",
       "      <th>2018-01-05</th>\n",
       "      <td>MCD43A.A2018005.h10v06.006.2018014032359.nir_b...</td>\n",
       "      <td>MCD43A</td>\n",
       "      <td>A2018005</td>\n",
       "      <td>Lat28.27149Lon-81.9668Samp1Line1</td>\n",
       "      <td>2018014032359</td>\n",
       "      <td>nir_black</td>\n",
       "      <td>0.182639</td>\n",
       "    </tr>\n",
       "  </tbody>\n",
       "</table>\n",
       "</div>"
      ],
      "text/plain": [
       "                                                           id    prod  \\\n",
       "2018-01-01  MCD43A.A2018001.h10v06.006.2018010031010.nir_b...  MCD43A   \n",
       "2018-01-02  MCD43A.A2018002.h10v06.006.2018011031030.nir_b...  MCD43A   \n",
       "2018-01-03  MCD43A.A2018003.h10v06.006.2018012030820.nir_b...  MCD43A   \n",
       "2018-01-04  MCD43A.A2018004.h10v06.006.2018013032552.nir_b...  MCD43A   \n",
       "2018-01-05  MCD43A.A2018005.h10v06.006.2018014032359.nir_b...  MCD43A   \n",
       "\n",
       "               mdate                               loc          pdate  \\\n",
       "2018-01-01  A2018001  Lat28.27149Lon-81.9668Samp1Line1  2018010031010   \n",
       "2018-01-02  A2018002  Lat28.27149Lon-81.9668Samp1Line1  2018011031030   \n",
       "2018-01-03  A2018003  Lat28.27149Lon-81.9668Samp1Line1  2018012030820   \n",
       "2018-01-04  A2018004  Lat28.27149Lon-81.9668Samp1Line1  2018013032552   \n",
       "2018-01-05  A2018005  Lat28.27149Lon-81.9668Samp1Line1  2018014032359   \n",
       "\n",
       "                  var      data  \n",
       "2018-01-01  nir_black  0.188892  \n",
       "2018-01-02  nir_black  0.183267  \n",
       "2018-01-03  nir_black  0.183281  \n",
       "2018-01-04  nir_black  0.183250  \n",
       "2018-01-05  nir_black  0.182639  "
      ]
     },
     "execution_count": 3,
     "metadata": {},
     "output_type": "execute_result"
    }
   ],
   "source": [
    "import numpy as np\n",
    "import pandas as pd\n",
    "import xarray as xr\n",
    "from io import StringIO\n",
    "from datetime import datetime\n",
    "from datetime import timedelta\n",
    "from pyproj import Proj, transform\n",
    "\n",
    "order_nir = {\n",
    "    \"nir_black\": None, \n",
    "    \"nir_white\": None, \n",
    "    \"nir_actual\": None}\n",
    "\n",
    "\n",
    "def mdate2dt(modis_date):\n",
    "    \"\"\"AYYYYDOY::A2019001 >> yyyy-mm-dd\"\"\"\n",
    "    idate = datetime(int(modis_date[1:5]),1,1)\n",
    "    idelt = timedelta(int(modis_date[5:])-1)    \n",
    "    return((idate+idelt).strftime('%Y-%m-%d'))\n",
    "\n",
    "colnames = [\"id\", \"prod\", \"mdate\", \"loc\", \"pdate\", \"var\", \"data\"]\n",
    "for csv in list(order_nir.keys()):               # iterate over list of nir\n",
    "    \n",
    "    csv_url = (\n",
    "        \"https://modis.ornl.gov/subsetdata/\"     # global tool orders dir\n",
    "        \"03Jul2019_13:43:49_346167250\"           # order id\n",
    "        \"L28.27149\"                              # latitude of center\n",
    "        \"L-81.9668\"                              # longitude of center\n",
    "        \"S1L1_MCD43A/\"+csv+\".csv\")               \n",
    "    r = requests.get(csv_url)                    # download with requests.get\n",
    "    \n",
    "    order_nir[csv] = pd.read_csv(                # parse response text to pd \n",
    "        StringIO(r.text),                        #  StringIO pseudofile\n",
    "        names=colnames,\n",
    "        header=None, \n",
    "        sep=\",\") \n",
    "    \n",
    "    # set the data column to mask the fill values (32767.0)\n",
    "    order_nir[csv].loc[order_nir[csv].data==32767.0, \"data\"] = np.nan\n",
    "    \n",
    "    # get dates from the third column (base zero); set to index\n",
    "    order_nir[csv].index = [mdate2dt(md) for md in order_nir[csv][\"mdate\"]] \n",
    "\n",
    "    \n",
    "order_nir[\"nir_black\"].head(5)               # print five rows of nir black"
   ]
  },
  {
   "cell_type": "markdown",
   "metadata": {},
   "source": [
    "Get lists of outputs for black, white, and blue:"
   ]
  },
  {
   "cell_type": "code",
   "execution_count": 4,
   "metadata": {},
   "outputs": [
    {
     "name": "stdout",
     "output_type": "stream",
     "text": [
      "Black sky albedo outputs for 2018:\n"
     ]
    },
    {
     "data": {
      "text/plain": [
       "['result/black_albedo_MCD43A1.2018_3.nc',\n",
       " 'result/black_albedo_MCD43A1.2018_7.nc',\n",
       " 'result/black_albedo_MCD43A1.2018_5.nc',\n",
       " 'result/black_albedo_MCD43A1.2018_9.nc',\n",
       " 'result/black_albedo_MCD43A1.2018_8.nc',\n",
       " 'result/black_albedo_MCD43A1.2018_6.nc',\n",
       " 'result/black_albedo_MCD43A1.2018_11.nc',\n",
       " 'result/black_albedo_MCD43A1.2018_4.nc',\n",
       " 'result/black_albedo_MCD43A1.2018_1.nc',\n",
       " 'result/black_albedo_MCD43A1.2018_12.nc',\n",
       " 'result/black_albedo_MCD43A1.2018_10.nc',\n",
       " 'result/black_albedo_MCD43A1.2018_2.nc']"
      ]
     },
     "execution_count": 4,
     "metadata": {},
     "output_type": "execute_result"
    }
   ],
   "source": [
    "import glob\n",
    "\n",
    "bsa_result = glob.glob(\"result/black_albedo*.nc\")\n",
    "wsa_result = glob.glob(\"result/white_albedo*.nc\")\n",
    "alb_result = glob.glob(\"result/blue_albedo*.nc\")\n",
    "\n",
    "print(\"Black sky albedo outputs for 2018:\"); bsa_result"
   ]
  },
  {
   "cell_type": "markdown",
   "metadata": {},
   "source": [
    "Ooops, sort those files. **File lists passed to `xr.open_mfdataset` must be sequential**:"
   ]
  },
  {
   "cell_type": "code",
   "execution_count": 5,
   "metadata": {
    "scrolled": false
   },
   "outputs": [
    {
     "data": {
      "text/plain": [
       "['result/black_albedo_MCD43A1.2018_1.nc',\n",
       " 'result/black_albedo_MCD43A1.2018_2.nc',\n",
       " 'result/black_albedo_MCD43A1.2018_3.nc',\n",
       " 'result/black_albedo_MCD43A1.2018_4.nc',\n",
       " 'result/black_albedo_MCD43A1.2018_5.nc',\n",
       " 'result/black_albedo_MCD43A1.2018_6.nc',\n",
       " 'result/black_albedo_MCD43A1.2018_7.nc',\n",
       " 'result/black_albedo_MCD43A1.2018_8.nc',\n",
       " 'result/black_albedo_MCD43A1.2018_9.nc',\n",
       " 'result/black_albedo_MCD43A1.2018_10.nc',\n",
       " 'result/black_albedo_MCD43A1.2018_11.nc',\n",
       " 'result/black_albedo_MCD43A1.2018_12.nc']"
      ]
     },
     "execution_count": 5,
     "metadata": {},
     "output_type": "execute_result"
    }
   ],
   "source": [
    "bsa_result = sorted(bsa_result, key=lambda x: int(x.split(\"_\")[-1][:-3]))\n",
    "bsa_result"
   ]
  },
  {
   "cell_type": "markdown",
   "metadata": {},
   "source": [
    "Open the black albedo outputs as a single dataset (using `xr.open_mfdataset`):"
   ]
  },
  {
   "cell_type": "code",
   "execution_count": 6,
   "metadata": {},
   "outputs": [],
   "source": [
    "bsa = xr.open_mfdataset(bsa_result)"
   ]
  },
  {
   "cell_type": "markdown",
   "metadata": {},
   "source": [
    "Now extract the time series for the same pixel that was requested from ORNL DAAC. First we need to get the lat,lon coordinate in Sinusoidal meters so that we can index the array (*please excuse the absurd string parse job*):"
   ]
  },
  {
   "cell_type": "code",
   "execution_count": 7,
   "metadata": {},
   "outputs": [
    {
     "data": {
      "text/plain": [
       "['28.27149', '-81.9668']"
      ]
     },
     "execution_count": 7,
     "metadata": {},
     "output_type": "execute_result"
    }
   ],
   "source": [
    "ll = order_nir[\"nir_black\"].iloc[0][\"loc\"].split(\"Samp\")[0][3:].split(\"Lon\")\n",
    "ll"
   ]
  },
  {
   "cell_type": "markdown",
   "metadata": {},
   "source": [
    "We need to use Sinusoidal coordinates to safely index our dataset. The following transform is the exact opposite of the one that we used to generate latitude and longitude arrays in [1_Workflow.ipynb](1_Workflow.ipynb):"
   ]
  },
  {
   "cell_type": "code",
   "execution_count": 8,
   "metadata": {},
   "outputs": [
    {
     "name": "stdout",
     "output_type": "stream",
     "text": [
      "Sinusoidal equivalent for the lat, lon from the DAAC subset:\n"
     ]
    },
    {
     "data": {
      "text/plain": [
       "(-8027086.119432877, 3143649.800007406)"
      ]
     },
     "execution_count": 8,
     "metadata": {},
     "output_type": "execute_result"
    }
   ],
   "source": [
    "# EPSG code for geographic WGS84 is our input projection this time\n",
    "inproj = Proj(init=\"epsg:4326\")\n",
    "\n",
    "# build the MODIS sinusoidal proj4 string again\n",
    "getpar = lambda a: str(bsa.crs.attrs[a])\n",
    "outproj = Proj(\" \".join([\n",
    "    \"+proj=sinu\",\n",
    "    \"+lon_0=\"+getpar(\"longitude_of_central_meridian\"),\n",
    "    \"+x_0=\"+getpar(\"false_easting\"),\n",
    "    \"+y_0=\"+getpar(\"false_northing\"),\n",
    "    \"+a=\"+getpar(\"semi_major_axis\"),\n",
    "    \"+b=\"+getpar(\"semi_minor_axis\"),\n",
    "    \"+units=\"+\"meter +no_defs\"]))\n",
    "\n",
    "# pass the two projection definitions to transform along with the lat,lon\n",
    "x,y = transform(inproj, outproj, float(ll[1]), float(ll[0]))\n",
    "\n",
    "print(\"Sinusoidal equivalent for the lat, lon from the DAAC subset:\"); x,y"
   ]
  },
  {
   "cell_type": "markdown",
   "metadata": {},
   "source": [
    "Get the coordinate from the *x and y* dimensions that is nearest to the newly transformed coordinate:"
   ]
  },
  {
   "cell_type": "code",
   "execution_count": 9,
   "metadata": {},
   "outputs": [
    {
     "name": "stdout",
     "output_type": "stream",
     "text": [
      "The nearest x,y coordinate in our dataset:\n"
     ]
    },
    {
     "data": {
      "text/plain": [
       "(-8027124.470202017, 3143808.4379992373)"
      ]
     },
     "execution_count": 9,
     "metadata": {},
     "output_type": "execute_result"
    }
   ],
   "source": [
    "import numpy as np\n",
    "\n",
    "find_nearest = lambda array, value: array[(np.abs(array - value)).argmin()]\n",
    "x_near = find_nearest(bsa.x, x).data.item()\n",
    "y_near = find_nearest(bsa.y, y).data.item()\n",
    "\n",
    "print(\"The nearest x,y coordinate in our dataset:\"); x_near, y_near"
   ]
  },
  {
   "cell_type": "markdown",
   "metadata": {},
   "source": [
    "Finally, index the array and plot:\n",
    "1. our calculated black sky albedo time series for the near-infrared band,\n",
    "2. the time series calculated by ORNL DAAC, and,\n",
    "3. the difference of the two time series"
   ]
  },
  {
   "cell_type": "markdown",
   "metadata": {},
   "source": [
    "Select black sky albedo arrays, select pixel, put it all in a data frame. Include SZA:"
   ]
  },
  {
   "cell_type": "code",
   "execution_count": 10,
   "metadata": {},
   "outputs": [
    {
     "data": {
      "text/html": [
       "<div>\n",
       "<style scoped>\n",
       "    .dataframe tbody tr th:only-of-type {\n",
       "        vertical-align: middle;\n",
       "    }\n",
       "\n",
       "    .dataframe tbody tr th {\n",
       "        vertical-align: top;\n",
       "    }\n",
       "\n",
       "    .dataframe thead th {\n",
       "        text-align: right;\n",
       "    }\n",
       "</style>\n",
       "<table border=\"1\" class=\"dataframe\">\n",
       "  <thead>\n",
       "    <tr style=\"text-align: right;\">\n",
       "      <th></th>\n",
       "      <th>ORNLDAAC</th>\n",
       "      <th>OURWORKFLOW</th>\n",
       "      <th>DIFFERENCE</th>\n",
       "      <th>SZA</th>\n",
       "    </tr>\n",
       "    <tr>\n",
       "      <th>dayofyear</th>\n",
       "      <th></th>\n",
       "      <th></th>\n",
       "      <th></th>\n",
       "      <th></th>\n",
       "    </tr>\n",
       "  </thead>\n",
       "  <tbody>\n",
       "    <tr>\n",
       "      <th>1</th>\n",
       "      <td>0.188892</td>\n",
       "      <td>0.188894</td>\n",
       "      <td>0.000002</td>\n",
       "      <td>51.303762</td>\n",
       "    </tr>\n",
       "    <tr>\n",
       "      <th>2</th>\n",
       "      <td>0.183267</td>\n",
       "      <td>0.183269</td>\n",
       "      <td>0.000002</td>\n",
       "      <td>51.224372</td>\n",
       "    </tr>\n",
       "    <tr>\n",
       "      <th>3</th>\n",
       "      <td>0.183281</td>\n",
       "      <td>0.183284</td>\n",
       "      <td>0.000003</td>\n",
       "      <td>51.138180</td>\n",
       "    </tr>\n",
       "    <tr>\n",
       "      <th>4</th>\n",
       "      <td>0.183250</td>\n",
       "      <td>0.183253</td>\n",
       "      <td>0.000003</td>\n",
       "      <td>51.045213</td>\n",
       "    </tr>\n",
       "    <tr>\n",
       "      <th>5</th>\n",
       "      <td>0.182639</td>\n",
       "      <td>0.182642</td>\n",
       "      <td>0.000003</td>\n",
       "      <td>50.945498</td>\n",
       "    </tr>\n",
       "  </tbody>\n",
       "</table>\n",
       "</div>"
      ],
      "text/plain": [
       "           ORNLDAAC  OURWORKFLOW  DIFFERENCE        SZA\n",
       "dayofyear                                              \n",
       "1          0.188892     0.188894    0.000002  51.303762\n",
       "2          0.183267     0.183269    0.000002  51.224372\n",
       "3          0.183281     0.183284    0.000003  51.138180\n",
       "4          0.183250     0.183253    0.000003  51.045213\n",
       "5          0.182639     0.182642    0.000003  50.945498"
      ]
     },
     "execution_count": 10,
     "metadata": {},
     "output_type": "execute_result"
    }
   ],
   "source": [
    "our_nir_bsa  = bsa[\"BRDF_Albedo_Parameters_nir\"]  # get nir BSA for our ds\n",
    "ornl_nir_bsa = order_nir[\"nir_black\"][\"data\"]     # get nir BSA for subset\n",
    "\n",
    "# select only the numpy arrays\n",
    "sza = bsa[\"solar_zenith_angle\"].sel(x=x_near, y=y_near).data.compute()\n",
    "ours  = our_nir_bsa.sel(x=x_near, y=y_near).data.compute()\n",
    "ornls = ornl_nir_bsa.values\n",
    "diff  = ours-ornls\n",
    "\n",
    "# make a df\n",
    "df = pd.DataFrame({\n",
    "    \"ORNLDAAC\": ornls, \n",
    "    \"OURWORKFLOW\": ours, \n",
    "    \"DIFFERENCE\": diff,\n",
    "    \"SZA\": sza\n",
    "}, index=bsa.time.dt.dayofyear)\n",
    "\n",
    "df.head(5)"
   ]
  },
  {
   "cell_type": "markdown",
   "metadata": {},
   "source": [
    "Plot the data frame:"
   ]
  },
  {
   "cell_type": "code",
   "execution_count": 11,
   "metadata": {},
   "outputs": [
    {
     "data": {
      "image/png": "[encoded data removed]",
      "text/plain": [
       "<Figure size 1008x576 with 4 Axes>"
      ]
     },
     "metadata": {
      "needs_background": "light"
     },
     "output_type": "display_data"
    }
   ],
   "source": [
    "%matplotlib inline\n",
    "import matplotlib.pyplot as plt\n",
    "plt.rcParams['font.size'] = 14 \n",
    "\n",
    "fig, axs = plt.subplots(3, 1, sharex=True, figsize=(14,8))\n",
    "fig.suptitle(\"Computed black sky albedo (MCD43A1): comparison \"\n",
    "             \"ORNL DAAC versus Workflow\")\n",
    "\n",
    "df[\"ORNLDAAC\"].plot(ax=axs[0], color=\"black\")\n",
    "axs[0].set_ylabel(\"ORNL DAAC\")\n",
    "axs[0].grid(True)\n",
    "\n",
    "df[\"OURWORKFLOW\"].plot(ax=axs[1], color=\"black\")\n",
    "axs[1].set_ylabel(\"OUR WORKFLOW\")\n",
    "axs[1].grid(True)\n",
    "\n",
    "df[\"DIFFERENCE\"].plot(ax=axs[2])\n",
    "axs[2].set_ylabel(\"DIFFERENCE\")\n",
    "axs[2].grid(True)\n",
    "\n",
    "axs3 = axs[2].twinx()\n",
    "df[\"SZA\"].plot(ax=axs3, color=\"orange\")\n",
    "axs3.set_ylabel(\"ZENITH ANGLE\")\n",
    "\n",
    "#fig.tight_layout()\n",
    "plt.show()"
   ]
  },
  {
   "cell_type": "markdown",
   "metadata": {},
   "source": [
    "Better than I expected.\n",
    "\n",
    "It looks like the difference is related to the solar zenith angle because the concave time series resembles the solar zenith angle curve through the year. \n",
    "\n",
    "I can tell you with a lot of confidence that the tiny disparity (see y-axis precision) between the two time series comes from the ORNL DAAC's solar zenith angle calculator because it returns five decimal places. We're using the full precision solar zenith angle calculated by:\n",
    "\n",
    "```shell\n",
    "\n",
    "# parameters\n",
    "\n",
    "doy = 166                         # day of the year    \n",
    "diy = 365                         # number of days in the year\n",
    "deg_rot_per_day = 360/diy         # degree of rotation per day\n",
    "abs_max_declination = 23.45       # unsigned max declination\n",
    "\n",
    "# declination is calculated by:\n",
    "declination = cos(radians((doy+10)*deg_rot_per_day))*-abs_max_declination\n",
    "\n",
    "# solar altitude (when given in angular units) and zenith are complementary angles\n",
    "solar_altitude = 90 - latitude + declination\n",
    "solar_zenith = 90 - solar_altitude\n",
    "\n",
    "\n",
    "```\n",
    "\n",
    "So, I'm satisfied with this and won't do any further validation for now.\n",
    "\n",
    "## Validate with MCD43A3 Albedos \n",
    "*(coming soon)*"
   ]
  }
 ],
 "metadata": {
  "kernelspec": {
   "display_name": "Python 3",
   "language": "python",
   "name": "python3"
  },
  "language_info": {
   "codemirror_mode": {
    "name": "ipython",
    "version": 3
   },
   "file_extension": ".py",
   "mimetype": "text/x-python",
   "name": "python",
   "nbconvert_exporter": "python",
   "pygments_lexer": "ipython3",
   "version": "3.7.3"
  },
  "toc": {
   "base_numbering": 1,
   "nav_menu": {},
   "number_sections": true,
   "sideBar": true,
   "skip_h1_title": true,
   "title_cell": "Table of Contents",
   "title_sidebar": "Contents",
   "toc_cell": true,
   "toc_position": {
    "height": "calc(100% - 180px)",
    "left": "10px",
    "top": "150px",
    "width": "165px"
   },
   "toc_section_display": true,
   "toc_window_display": true
  }
 },
 "nbformat": 4,
 "nbformat_minor": 2
}
