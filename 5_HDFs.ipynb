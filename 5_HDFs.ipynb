{
 "cells": [
  {
   "cell_type": "markdown",
   "metadata": {},
   "source": [
    "# HDF Workflow (totally incomplete)\n",
    "This is an alternative to using the netCDF subsets from AppEEARS. This notebook shows you how to query the LPDAAC inventory service for lists of HDF urls, write them to text file, download with wget or curl (must have an Earthdata account), and put through the same workflow outlined in the earlier notebooks.\n",
    "\n",
    "## Download HDFs\n",
    "\n",
    "Go to the [inventory service](https://lpdaacsvc.cr.usgs.gov/services/inventory) page and figure out the query you need to get a list of HDFs. \n",
    "\n",
    "\n",
    "\n",
    "I know there to be two MODIS tiles that fully contain the state of Florida (h10v05, h10v06), so I queried random points spread apart a bit to make sure I got both tiles. I covered this briefly in [0_Introduction]()\n",
    "\n",
    "\n",
    "`FIND this.. i did this convert really nicely once with shell/GDAL 2.x piping. old hdds in ut115.`\n",
    "\n",
    "`hdfeos2nc.py` does this."
   ]
  },
  {
   "cell_type": "code",
   "execution_count": null,
   "metadata": {},
   "outputs": [],
   "source": [
    "import sys,json,requests\n",
    "from bs4 import BeautifulSoup\n",
    "from datetime import datetime\n",
    "\n",
    "https://lpdaacsvc.cr.usgs.gov/services/inventory?product=MCD43A1&version=6&longitude=-87.4951&latitude=25.00597&return=url&output=text&julianrange=0-365&years=2018\n",
    "\n",
    "#with open(sys.argv[0]) as f:\n",
    "with open(\"config/config.json\") as f:\n",
    "    cfg = json.load(f)\n",
    "\n",
    "def _update_product_tables(link,table):\n",
    "\n",
    "    page = requests.get(link)\n",
    "    soup = BeautifulSoup(page.text, 'html.parser')\n",
    "    lines = [ln for ln in soup.text.split(\"\\n\") if \"006\" in ln]\n",
    "\n",
    "    products = [ln.split(\"/\")[0].strip() for ln in lines][0]\n",
    "    updates = [ln.split(\"/\")[1].replace(\"-\",\"\").strip() for ln in lines]\n",
    "    links = [link+p+\"/\" for p in products]\n",
    " \n",
    "    with open(table,\"w\") as f:\n",
    "        for i,p in enumerate(products):\n",
    "            print(p)\n",
    "            f.write(\",\".join([p,updates[i],links[i]])+\"\\n\")\n",
    "\n",
    "\n",
    "            \n",
    "for s,l in cfg['inventory'].items():\n",
    "    _update_product_tables(l,\"config/\"+s+\"products.txt\")\n",
    "\n",
    "\n",
    "-87.4951171875, 25.005972656239187,\n",
    "-79.4970703125, 25.005972656239187,\n",
    "-79.4970703125, 30.86451022625836,\n",
    "-87.4951171875, 30.86451022625836,\n",
    "-87.4951171875, 25.005972656239187\n",
    "\n",
    "\n",
    "-87.4951171875,25.005972656239187,-79.4970703125,86451022625836\n",
    "\n",
    "\n",
    "http://192.168.1.135:8888/?token=5aa4534c4f1ca7fa14dbb03b3434f0e3445f48873aa7eb8e"
   ]
  },
  {
   "cell_type": "markdown",
   "metadata": {},
   "source": [
    "# Calculate blue sky albedos from MCD43A1 HDF tiles"
   ]
  },
  {
   "cell_type": "code",
   "execution_count": 3,
   "metadata": {},
   "outputs": [],
   "source": [
    "import xarray as xr"
   ]
  },
  {
   "cell_type": "code",
   "execution_count": 6,
   "metadata": {},
   "outputs": [
    {
     "data": {
      "text/plain": [
       "<xarray.Dataset>\n",
       "Dimensions:                                       (Num_Parameters:MOD_Grid_BRDF: 3, XDim:MOD_Grid_BRDF: 2400, YDim:MOD_Grid_BRDF: 2400)\n",
       "Dimensions without coordinates: Num_Parameters:MOD_Grid_BRDF, XDim:MOD_Grid_BRDF, YDim:MOD_Grid_BRDF\n",
       "Data variables:\n",
       "    BRDF_Albedo_Band_Mandatory_Quality_Band1      (YDim:MOD_Grid_BRDF, XDim:MOD_Grid_BRDF) float32 ...\n",
       "    BRDF_Albedo_Band_Mandatory_Quality_Band2      (YDim:MOD_Grid_BRDF, XDim:MOD_Grid_BRDF) float32 ...\n",
       "    BRDF_Albedo_Band_Mandatory_Quality_Band3      (YDim:MOD_Grid_BRDF, XDim:MOD_Grid_BRDF) float32 ...\n",
       "    BRDF_Albedo_Band_Mandatory_Quality_Band4      (YDim:MOD_Grid_BRDF, XDim:MOD_Grid_BRDF) float32 ...\n",
       "    BRDF_Albedo_Band_Mandatory_Quality_Band5      (YDim:MOD_Grid_BRDF, XDim:MOD_Grid_BRDF) float32 ...\n",
       "    BRDF_Albedo_Band_Mandatory_Quality_Band6      (YDim:MOD_Grid_BRDF, XDim:MOD_Grid_BRDF) float32 ...\n",
       "    BRDF_Albedo_Band_Mandatory_Quality_Band7      (YDim:MOD_Grid_BRDF, XDim:MOD_Grid_BRDF) float32 ...\n",
       "    BRDF_Albedo_Band_Mandatory_Quality_vis        (YDim:MOD_Grid_BRDF, XDim:MOD_Grid_BRDF) float32 ...\n",
       "    BRDF_Albedo_Band_Mandatory_Quality_nir        (YDim:MOD_Grid_BRDF, XDim:MOD_Grid_BRDF) float32 ...\n",
       "    BRDF_Albedo_Band_Mandatory_Quality_shortwave  (YDim:MOD_Grid_BRDF, XDim:MOD_Grid_BRDF) float32 ...\n",
       "    BRDF_Albedo_Parameters_Band1                  (YDim:MOD_Grid_BRDF, XDim:MOD_Grid_BRDF, Num_Parameters:MOD_Grid_BRDF) float32 ...\n",
       "    BRDF_Albedo_Parameters_Band2                  (YDim:MOD_Grid_BRDF, XDim:MOD_Grid_BRDF, Num_Parameters:MOD_Grid_BRDF) float32 ...\n",
       "    BRDF_Albedo_Parameters_Band3                  (YDim:MOD_Grid_BRDF, XDim:MOD_Grid_BRDF, Num_Parameters:MOD_Grid_BRDF) float32 ...\n",
       "    BRDF_Albedo_Parameters_Band4                  (YDim:MOD_Grid_BRDF, XDim:MOD_Grid_BRDF, Num_Parameters:MOD_Grid_BRDF) float32 ...\n",
       "    BRDF_Albedo_Parameters_Band5                  (YDim:MOD_Grid_BRDF, XDim:MOD_Grid_BRDF, Num_Parameters:MOD_Grid_BRDF) float32 ...\n",
       "    BRDF_Albedo_Parameters_Band6                  (YDim:MOD_Grid_BRDF, XDim:MOD_Grid_BRDF, Num_Parameters:MOD_Grid_BRDF) float32 ...\n",
       "    BRDF_Albedo_Parameters_Band7                  (YDim:MOD_Grid_BRDF, XDim:MOD_Grid_BRDF, Num_Parameters:MOD_Grid_BRDF) float32 ...\n",
       "    BRDF_Albedo_Parameters_vis                    (YDim:MOD_Grid_BRDF, XDim:MOD_Grid_BRDF, Num_Parameters:MOD_Grid_BRDF) float32 ...\n",
       "    BRDF_Albedo_Parameters_nir                    (YDim:MOD_Grid_BRDF, XDim:MOD_Grid_BRDF, Num_Parameters:MOD_Grid_BRDF) float32 ...\n",
       "    BRDF_Albedo_Parameters_shortwave              (YDim:MOD_Grid_BRDF, XDim:MOD_Grid_BRDF, Num_Parameters:MOD_Grid_BRDF) float32 ...\n",
       "Attributes:\n",
       "    HDFEOSVersion:                     HDFEOS_V2.17\n",
       "    StructMetadata.0:                  GROUP=SwathStructure\\nEND_GROUP=SwathS...\n",
       "    identifier_product_doi:            10.5067/MODIS/MCD43A1.006\n",
       "    identifier_product_doi_authority:  http://dx.doi.org\n",
       "    CoreMetadata.0:                    \\nGROUP                  = INVENTORYME...\n",
       "    ArchiveMetadata.0:                 \\nGROUP                  = ARCHIVEDMET..."
      ]
     },
     "execution_count": 6,
     "metadata": {},
     "output_type": "execute_result"
    }
   ],
   "source": [
    "xr.open_dataset(\"data/hdf/MCD43A1.A2000055.h17v06.006.2016101152056.hdf\")"
   ]
  }
 ],
 "metadata": {
  "kernelspec": {
   "display_name": "Python 3",
   "language": "python",
   "name": "python3"
  },
  "language_info": {
   "codemirror_mode": {
    "name": "ipython",
    "version": 3
   },
   "file_extension": ".py",
   "mimetype": "text/x-python",
   "name": "python",
   "nbconvert_exporter": "python",
   "pygments_lexer": "ipython3",
   "version": "3.7.3"
  },
  "toc": {
   "base_numbering": 1,
   "nav_menu": {},
   "number_sections": true,
   "sideBar": true,
   "skip_h1_title": false,
   "title_cell": "Table of Contents",
   "title_sidebar": "Contents",
   "toc_cell": false,
   "toc_position": {},
   "toc_section_display": true,
   "toc_window_display": false
  }
 },
 "nbformat": 4,
 "nbformat_minor": 2
}
