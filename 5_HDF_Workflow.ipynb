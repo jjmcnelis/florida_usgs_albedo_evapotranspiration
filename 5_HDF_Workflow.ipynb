{
 "cells": [
  {
   "cell_type": "markdown",
   "metadata": {},
   "source": [
    "# Calculate blue sky albedos from MCD43A1 HDF tiles"
   ]
  },
  {
   "cell_type": "code",
   "execution_count": 3,
   "metadata": {},
   "outputs": [],
   "source": [
    "import xarray as xr"
   ]
  },
  {
   "cell_type": "code",
   "execution_count": 6,
   "metadata": {},
   "outputs": [
    {
     "data": {
      "text/plain": [
       "<xarray.Dataset>\n",
       "Dimensions:                                       (Num_Parameters:MOD_Grid_BRDF: 3, XDim:MOD_Grid_BRDF: 2400, YDim:MOD_Grid_BRDF: 2400)\n",
       "Dimensions without coordinates: Num_Parameters:MOD_Grid_BRDF, XDim:MOD_Grid_BRDF, YDim:MOD_Grid_BRDF\n",
       "Data variables:\n",
       "    BRDF_Albedo_Band_Mandatory_Quality_Band1      (YDim:MOD_Grid_BRDF, XDim:MOD_Grid_BRDF) float32 ...\n",
       "    BRDF_Albedo_Band_Mandatory_Quality_Band2      (YDim:MOD_Grid_BRDF, XDim:MOD_Grid_BRDF) float32 ...\n",
       "    BRDF_Albedo_Band_Mandatory_Quality_Band3      (YDim:MOD_Grid_BRDF, XDim:MOD_Grid_BRDF) float32 ...\n",
       "    BRDF_Albedo_Band_Mandatory_Quality_Band4      (YDim:MOD_Grid_BRDF, XDim:MOD_Grid_BRDF) float32 ...\n",
       "    BRDF_Albedo_Band_Mandatory_Quality_Band5      (YDim:MOD_Grid_BRDF, XDim:MOD_Grid_BRDF) float32 ...\n",
       "    BRDF_Albedo_Band_Mandatory_Quality_Band6      (YDim:MOD_Grid_BRDF, XDim:MOD_Grid_BRDF) float32 ...\n",
       "    BRDF_Albedo_Band_Mandatory_Quality_Band7      (YDim:MOD_Grid_BRDF, XDim:MOD_Grid_BRDF) float32 ...\n",
       "    BRDF_Albedo_Band_Mandatory_Quality_vis        (YDim:MOD_Grid_BRDF, XDim:MOD_Grid_BRDF) float32 ...\n",
       "    BRDF_Albedo_Band_Mandatory_Quality_nir        (YDim:MOD_Grid_BRDF, XDim:MOD_Grid_BRDF) float32 ...\n",
       "    BRDF_Albedo_Band_Mandatory_Quality_shortwave  (YDim:MOD_Grid_BRDF, XDim:MOD_Grid_BRDF) float32 ...\n",
       "    BRDF_Albedo_Parameters_Band1                  (YDim:MOD_Grid_BRDF, XDim:MOD_Grid_BRDF, Num_Parameters:MOD_Grid_BRDF) float32 ...\n",
       "    BRDF_Albedo_Parameters_Band2                  (YDim:MOD_Grid_BRDF, XDim:MOD_Grid_BRDF, Num_Parameters:MOD_Grid_BRDF) float32 ...\n",
       "    BRDF_Albedo_Parameters_Band3                  (YDim:MOD_Grid_BRDF, XDim:MOD_Grid_BRDF, Num_Parameters:MOD_Grid_BRDF) float32 ...\n",
       "    BRDF_Albedo_Parameters_Band4                  (YDim:MOD_Grid_BRDF, XDim:MOD_Grid_BRDF, Num_Parameters:MOD_Grid_BRDF) float32 ...\n",
       "    BRDF_Albedo_Parameters_Band5                  (YDim:MOD_Grid_BRDF, XDim:MOD_Grid_BRDF, Num_Parameters:MOD_Grid_BRDF) float32 ...\n",
       "    BRDF_Albedo_Parameters_Band6                  (YDim:MOD_Grid_BRDF, XDim:MOD_Grid_BRDF, Num_Parameters:MOD_Grid_BRDF) float32 ...\n",
       "    BRDF_Albedo_Parameters_Band7                  (YDim:MOD_Grid_BRDF, XDim:MOD_Grid_BRDF, Num_Parameters:MOD_Grid_BRDF) float32 ...\n",
       "    BRDF_Albedo_Parameters_vis                    (YDim:MOD_Grid_BRDF, XDim:MOD_Grid_BRDF, Num_Parameters:MOD_Grid_BRDF) float32 ...\n",
       "    BRDF_Albedo_Parameters_nir                    (YDim:MOD_Grid_BRDF, XDim:MOD_Grid_BRDF, Num_Parameters:MOD_Grid_BRDF) float32 ...\n",
       "    BRDF_Albedo_Parameters_shortwave              (YDim:MOD_Grid_BRDF, XDim:MOD_Grid_BRDF, Num_Parameters:MOD_Grid_BRDF) float32 ...\n",
       "Attributes:\n",
       "    HDFEOSVersion:                     HDFEOS_V2.17\n",
       "    StructMetadata.0:                  GROUP=SwathStructure\\nEND_GROUP=SwathS...\n",
       "    identifier_product_doi:            10.5067/MODIS/MCD43A1.006\n",
       "    identifier_product_doi_authority:  http://dx.doi.org\n",
       "    CoreMetadata.0:                    \\nGROUP                  = INVENTORYME...\n",
       "    ArchiveMetadata.0:                 \\nGROUP                  = ARCHIVEDMET..."
      ]
     },
     "execution_count": 6,
     "metadata": {},
     "output_type": "execute_result"
    }
   ],
   "source": [
    "xr.open_dataset(\"data/hdf/MCD43A1.A2000055.h17v06.006.2016101152056.hdf\")"
   ]
  }
 ],
 "metadata": {
  "kernelspec": {
   "display_name": "Python 3",
   "language": "python",
   "name": "python3"
  },
  "language_info": {
   "codemirror_mode": {
    "name": "ipython",
    "version": 3
   },
   "file_extension": ".py",
   "mimetype": "text/x-python",
   "name": "python",
   "nbconvert_exporter": "python",
   "pygments_lexer": "ipython3",
   "version": "3.7.3"
  },
  "toc": {
   "base_numbering": 1,
   "nav_menu": {},
   "number_sections": true,
   "sideBar": true,
   "skip_h1_title": false,
   "title_cell": "Table of Contents",
   "title_sidebar": "Contents",
   "toc_cell": false,
   "toc_position": {},
   "toc_section_display": true,
   "toc_window_display": false
  }
 },
 "nbformat": 4,
 "nbformat_minor": 2
}
