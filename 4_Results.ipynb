{
 "cells": [
  {
   "cell_type": "markdown",
   "metadata": {
    "toc": true
   },
   "source": [
    "<h1>Table of Contents<span class=\"tocSkip\"></span></h1>\n",
    "<div class=\"toc\"><ul class=\"toc-item\"><li><span><a href=\"#Reformat\" data-toc-modified-id=\"Reformat-1\"><span class=\"toc-item-num\">1&nbsp;&nbsp;</span>Reformat</a></span><ul class=\"toc-item\"><li><span><a href=\"#NoData-mask\" data-toc-modified-id=\"NoData-mask-1.1\"><span class=\"toc-item-num\">1.1&nbsp;&nbsp;</span>NoData mask</a></span></li><li><span><a href=\"#Pixel-index\" data-toc-modified-id=\"Pixel-index-1.2\"><span class=\"toc-item-num\">1.2&nbsp;&nbsp;</span>Pixel index</a></span></li><li><span><a href=\"#Write-output\" data-toc-modified-id=\"Write-output-1.3\"><span class=\"toc-item-num\">1.3&nbsp;&nbsp;</span>Write output</a></span></li></ul></li><li><span><a href=\"#Plots\" data-toc-modified-id=\"Plots-2\"><span class=\"toc-item-num\">2&nbsp;&nbsp;</span>Plots</a></span></li><li><span><a href=\"#Bonus\" data-toc-modified-id=\"Bonus-3\"><span class=\"toc-item-num\">3&nbsp;&nbsp;</span>Bonus</a></span><ul class=\"toc-item\"><li><span><a href=\"#Linear-regression\" data-toc-modified-id=\"Linear-regression-3.1\"><span class=\"toc-item-num\">3.1&nbsp;&nbsp;</span>Linear regression</a></span></li></ul></li><li><span><a href=\"#Seasons\" data-toc-modified-id=\"Seasons-4\"><span class=\"toc-item-num\">4&nbsp;&nbsp;</span>Seasons</a></span><ul class=\"toc-item\"><li><span><a href=\"#seasons\" data-toc-modified-id=\"seasons-4.1\"><span class=\"toc-item-num\">4.1&nbsp;&nbsp;</span>seasons</a></span></li></ul></li></ul></div>"
   ]
  },
  {
   "cell_type": "markdown",
   "metadata": {},
   "source": [
    "# Results\n",
    "## Reformat \n",
    "*... our results netCDF(s) to match the input text file structure required by the Florida USGS evapotranspiration model.*\n",
    "\n",
    "Glob for the result dataset(s) and print the header for one of them:"
   ]
  },
  {
   "cell_type": "code",
   "execution_count": 70,
   "metadata": {},
   "outputs": [
    {
     "data": {
      "text/plain": [
       "['result/blue_albedo_2018.dat', 'result/Albedos_MCD43A1.2018.nc']"
      ]
     },
     "execution_count": 70,
     "metadata": {},
     "output_type": "execute_result"
    }
   ],
   "source": [
    "%matplotlib inline\n",
    "import glob\n",
    "import warnings\n",
    "warnings.filterwarnings('ignore')\n",
    "\n",
    "f = glob.glob(\"result/*\")\n",
    "f"
   ]
  },
  {
   "cell_type": "markdown",
   "metadata": {},
   "source": [
    "Open band one of the result dataset and print the header:"
   ]
  },
  {
   "cell_type": "code",
   "execution_count": 72,
   "metadata": {
    "scrolled": false
   },
   "outputs": [
    {
     "data": {
      "text/plain": [
       "<xarray.Dataset>\n",
       "Dimensions:           (time: 365, x: 1336, y: 1555)\n",
       "Coordinates:\n",
       "    lon               (y, x) float64 ...\n",
       "  * y                 (y) float64 3.447e+06 3.447e+06 ... 2.728e+06 2.727e+06\n",
       "  * x                 (x) float64 -8.404e+06 -8.403e+06 ... -7.785e+06\n",
       "    lat               (y, x) float64 ...\n",
       "  * time              (time) object 2018-01-01 00:00:00 ... 2018-12-31 00:00:00\n",
       "    month             (time) int64 ...\n",
       "Data variables:\n",
       "    blue_sky_albedo   (time, y, x) float64 ...\n",
       "    black_sky_albedo  (time, y, x) float64 ...\n",
       "    white_sky_albedo  (time, y, x) float32 ..."
      ]
     },
     "execution_count": 72,
     "metadata": {},
     "output_type": "execute_result"
    }
   ],
   "source": [
    "import xarray as xr\n",
    "import pandas as pd\n",
    "import numpy as np\n",
    "np.set_printoptions(suppress=True)\n",
    "\n",
    "ds = xr.open_dataset(f[1], group=\"BRDF_Albedo_Parameters_Band1\")\n",
    "ds"
   ]
  },
  {
   "cell_type": "markdown",
   "metadata": {},
   "source": [
    "### NoData mask\n",
    "Make an array of booleans that represent masked pixels by reading the first timestep of the input dataset and checking for `np.nan`:"
   ]
  },
  {
   "cell_type": "code",
   "execution_count": 16,
   "metadata": {},
   "outputs": [
    {
     "data": {
      "text/plain": [
       "array([[False, False, False, ..., False, False, False],\n",
       "       [False, False, False, ..., False, False, False],\n",
       "       [False, False, False, ..., False, False, False],\n",
       "       ...,\n",
       "       [False, False, False, ..., False, False, False],\n",
       "       [False, False, False, ..., False, False, False],\n",
       "       [False, False, False, ..., False, False, False]])"
      ]
     },
     "execution_count": 16,
     "metadata": {},
     "output_type": "execute_result"
    }
   ],
   "source": [
    "# temporarily open the input dataset that we processed previously\n",
    "with xr.open_dataset(\"data/MCD43A1.2018.nc\") as tmp_ds:\n",
    "    \n",
    "    # select timestep 1 of band 1 of the input dataset\n",
    "    tmp_array = tmp[\"BRDF_Albedo_Parameters_Band1\"][0].sel(Num_Parameters=0)\n",
    "    \n",
    "    # get the inverse of the boolean array of invalid pixels\n",
    "    mask_array = np.logical_not(np.isnan(tmp_array.data))\n",
    "\n",
    "mask_array"
   ]
  },
  {
   "cell_type": "markdown",
   "metadata": {},
   "source": [
    "Make an `xarray.DataArray` for the mask and add it to the results dataset:"
   ]
  },
  {
   "cell_type": "code",
   "execution_count": 23,
   "metadata": {},
   "outputs": [
    {
     "data": {
      "text/plain": [
       "<matplotlib.collections.QuadMesh at 0x7fe7b4b55ac8>"
      ]
     },
     "execution_count": 23,
     "metadata": {},
     "output_type": "execute_result"
    },
    {
     "data": {
      "image/png": "[encoded data removed]",
      "text/plain": [
       "<Figure size 792x720 with 2 Axes>"
      ]
     },
     "metadata": {
      "needs_background": "light"
     },
     "output_type": "display_data"
    }
   ],
   "source": [
    "ds.coords[\"mask\"] = xr.DataArray(\n",
    "    data=mask_array,\n",
    "    coords=[ds.y, ds.x],\n",
    "    dims=[\"y\", \"x\"],\n",
    "    attrs=dict(\n",
    "        grid_mapping=\"crs\", \n",
    "        flag_values=\"0 1\", \n",
    "        flag_meanings=\"nodata data\"))\n",
    "\n",
    "ds.coords[\"mask\"].plot(x=\"x\", y=\"y\", figsize=(11,10))"
   ]
  },
  {
   "cell_type": "markdown",
   "metadata": {},
   "source": [
    "There's our mask. Print the header now:"
   ]
  },
  {
   "cell_type": "code",
   "execution_count": 24,
   "metadata": {},
   "outputs": [
    {
     "data": {
      "text/plain": [
       "<xarray.Dataset>\n",
       "Dimensions:           (time: 365, x: 1336, y: 1555)\n",
       "Coordinates:\n",
       "    lon               (y, x) float64 ...\n",
       "  * y                 (y) float64 3.447e+06 3.447e+06 ... 2.728e+06 2.727e+06\n",
       "  * x                 (x) float64 -8.404e+06 -8.403e+06 ... -7.785e+06\n",
       "    lat               (y, x) float64 ...\n",
       "  * time              (time) object 2018-01-01 00:00:00 ... 2018-12-31 00:00:00\n",
       "    month             (time) int64 ...\n",
       "    mask              (y, x) bool False False False False ... False False False\n",
       "Data variables:\n",
       "    blue_sky_albedo   (time, y, x) float64 ...\n",
       "    black_sky_albedo  (time, y, x) float64 ...\n",
       "    white_sky_albedo  (time, y, x) float32 ..."
      ]
     },
     "execution_count": 24,
     "metadata": {},
     "output_type": "execute_result"
    }
   ],
   "source": [
    "ds"
   ]
  },
  {
   "cell_type": "markdown",
   "metadata": {},
   "source": [
    "### Pixel index\n",
    "\n",
    "Make an array of index values for the permuted xy arrays. The evapotranspiration model takes inputs that sequence in column-major order:\n",
    "```\n",
    " 1  24.249  -79.398  0.000 0.000 0.000 ... \n",
    " 2  24.266  -79.398  0.000 0.000 0.000 ...\n",
    " 3  24.284  -79.398  0.000 0.000 0.000 ...\n",
    " 4  24.302  -79.398  0.000 0.000 0.000 ...  \n",
    "```\n",
    "\n",
    "So, reshape the index array using the shape of longitude array in the results dataset:"
   ]
  },
  {
   "cell_type": "code",
   "execution_count": 30,
   "metadata": {},
   "outputs": [
    {
     "data": {
      "text/plain": [
       "array([[      0,       1,       2, ...,    1333,    1334,    1335],\n",
       "       [   1336,    1337,    1338, ...,    2669,    2670,    2671],\n",
       "       [   2672,    2673,    2674, ...,    4005,    4006,    4007],\n",
       "       ...,\n",
       "       [2073472, 2073473, 2073474, ..., 2074805, 2074806, 2074807],\n",
       "       [2074808, 2074809, 2074810, ..., 2076141, 2076142, 2076143],\n",
       "       [2076144, 2076145, 2076146, ..., 2077477, 2077478, 2077479]])"
      ]
     },
     "execution_count": 30,
     "metadata": {},
     "output_type": "execute_result"
    }
   ],
   "source": [
    "xyindex = np.array(list(range(ds.x.size*ds.y.size)))    # seq 1 to npixels\n",
    "xyindex = xyindex.reshape(ds.lon.shape)                 # reshape with lon\n",
    "\n",
    "xyindex"
   ]
  },
  {
   "cell_type": "markdown",
   "metadata": {},
   "source": [
    "Add `xyindex` array to the dataset as a coordinate variable:"
   ]
  },
  {
   "cell_type": "code",
   "execution_count": 31,
   "metadata": {},
   "outputs": [
    {
     "data": {
      "text/plain": [
       "<xarray.Dataset>\n",
       "Dimensions:           (time: 365, x: 1336, y: 1555)\n",
       "Coordinates:\n",
       "    lon               (y, x) float64 ...\n",
       "  * y                 (y) float64 3.447e+06 3.447e+06 ... 2.728e+06 2.727e+06\n",
       "  * x                 (x) float64 -8.404e+06 -8.403e+06 ... -7.785e+06\n",
       "    lat               (y, x) float64 ...\n",
       "  * time              (time) object 2018-01-01 00:00:00 ... 2018-12-31 00:00:00\n",
       "    month             (time) int64 ...\n",
       "    mask              (y, x) bool False False False False ... False False False\n",
       "    xyindex           (y, x) int64 0 1 2 3 4 ... 2077476 2077477 2077478 2077479\n",
       "Data variables:\n",
       "    blue_sky_albedo   (time, y, x) float64 ...\n",
       "    black_sky_albedo  (time, y, x) float64 ...\n",
       "    white_sky_albedo  (time, y, x) float32 ..."
      ]
     },
     "execution_count": 31,
     "metadata": {},
     "output_type": "execute_result"
    }
   ],
   "source": [
    "ds.coords[\"xyindex\"] = xr.DataArray(\n",
    "    data=xyindex,\n",
    "    coords=[ds.y, ds.x],\n",
    "    dims=[\"y\", \"x\"])\n",
    "\n",
    "ds"
   ]
  },
  {
   "cell_type": "markdown",
   "metadata": {},
   "source": [
    "### Write output\n",
    "Now write each valid pixel's time series to an output text file. This could take a while so make a simple progress bar widget to monitor progress:"
   ]
  },
  {
   "cell_type": "code",
   "execution_count": 46,
   "metadata": {},
   "outputs": [],
   "source": [
    "import time, sys\n",
    "from IPython.display import clear_output\n",
    "\n",
    "def update_progress(progress, nbar=20):\n",
    "    \"\"\"Simple ASCII progress bar for Jupyter environment.\"\"\"\n",
    "    \n",
    "    if isinstance(progress, int): \n",
    "        progress = float(progress)\n",
    "    if not isinstance(progress, float): \n",
    "        progress = 0\n",
    "    if progress < 0: \n",
    "        progress = 0\n",
    "    if progress >= 1: \n",
    "        progress = 1\n",
    "    block = int(round(nbar*progress))\n",
    "    \n",
    "    clear_output(wait = True)\n",
    "    prog = \"Progress: [{0}] {1:.1f}%\"\n",
    "    print(prog.format(\"#\"*block+\"-\"*(nbar-block), progress*100))"
   ]
  },
  {
   "cell_type": "markdown",
   "metadata": {},
   "source": [
    "Loop over pixels and write valid data to text file:"
   ]
  },
  {
   "cell_type": "code",
   "execution_count": 82,
   "metadata": {},
   "outputs": [
    {
     "ename": "KeyError",
     "evalue": "'mask'",
     "output_type": "error",
     "traceback": [
      "\u001b[0;31m---------------------------------------------------------------------------\u001b[0m",
      "\u001b[0;31mKeyError\u001b[0m                                  Traceback (most recent call last)",
      "\u001b[0;32m~/Python/anaconda3/lib/python3.7/site-packages/xarray/core/dataset.py\u001b[0m in \u001b[0;36m_construct_dataarray\u001b[0;34m(self, name)\u001b[0m\n\u001b[1;32m    975\u001b[0m         \u001b[0;32mtry\u001b[0m\u001b[0;34m:\u001b[0m\u001b[0;34m\u001b[0m\u001b[0;34m\u001b[0m\u001b[0m\n\u001b[0;32m--> 976\u001b[0;31m             \u001b[0mvariable\u001b[0m \u001b[0;34m=\u001b[0m \u001b[0mself\u001b[0m\u001b[0;34m.\u001b[0m\u001b[0m_variables\u001b[0m\u001b[0;34m[\u001b[0m\u001b[0mname\u001b[0m\u001b[0;34m]\u001b[0m\u001b[0;34m\u001b[0m\u001b[0;34m\u001b[0m\u001b[0m\n\u001b[0m\u001b[1;32m    977\u001b[0m         \u001b[0;32mexcept\u001b[0m \u001b[0mKeyError\u001b[0m\u001b[0;34m:\u001b[0m\u001b[0;34m\u001b[0m\u001b[0;34m\u001b[0m\u001b[0m\n",
      "\u001b[0;31mKeyError\u001b[0m: 'mask'",
      "\nDuring handling of the above exception, another exception occurred:\n",
      "\u001b[0;31mKeyError\u001b[0m                                  Traceback (most recent call last)",
      "\u001b[0;32m<ipython-input-82-fbf28b0eec1c>\u001b[0m in \u001b[0;36m<module>\u001b[0;34m\u001b[0m\n\u001b[1;32m     14\u001b[0m \u001b[0;34m\u001b[0m\u001b[0m\n\u001b[1;32m     15\u001b[0m             \u001b[0;31m# if mask value == True (valid data)\u001b[0m\u001b[0;34m\u001b[0m\u001b[0;34m\u001b[0m\u001b[0;34m\u001b[0m\u001b[0m\n\u001b[0;32m---> 16\u001b[0;31m             \u001b[0;32mif\u001b[0m \u001b[0mtmp\u001b[0m\u001b[0;34m.\u001b[0m\u001b[0mcoords\u001b[0m\u001b[0;34m[\u001b[0m\u001b[0;34m\"mask\"\u001b[0m\u001b[0;34m]\u001b[0m\u001b[0;34m:\u001b[0m\u001b[0;34m\u001b[0m\u001b[0;34m\u001b[0m\u001b[0m\n\u001b[0m\u001b[1;32m     17\u001b[0m \u001b[0;34m\u001b[0m\u001b[0m\n\u001b[1;32m     18\u001b[0m                 \u001b[0;31m# join row items with tabs and write\u001b[0m\u001b[0;34m\u001b[0m\u001b[0;34m\u001b[0m\u001b[0;34m\u001b[0m\u001b[0m\n",
      "\u001b[0;32m~/Python/anaconda3/lib/python3.7/site-packages/xarray/core/coordinates.py\u001b[0m in \u001b[0;36m__getitem__\u001b[0;34m(self, key)\u001b[0m\n\u001b[1;32m    172\u001b[0m         \u001b[0;32mif\u001b[0m \u001b[0mkey\u001b[0m \u001b[0;32min\u001b[0m \u001b[0mself\u001b[0m\u001b[0;34m.\u001b[0m\u001b[0m_data\u001b[0m\u001b[0;34m.\u001b[0m\u001b[0mdata_vars\u001b[0m\u001b[0;34m:\u001b[0m\u001b[0;34m\u001b[0m\u001b[0;34m\u001b[0m\u001b[0m\n\u001b[1;32m    173\u001b[0m             \u001b[0;32mraise\u001b[0m \u001b[0mKeyError\u001b[0m\u001b[0;34m(\u001b[0m\u001b[0mkey\u001b[0m\u001b[0;34m)\u001b[0m\u001b[0;34m\u001b[0m\u001b[0;34m\u001b[0m\u001b[0m\n\u001b[0;32m--> 174\u001b[0;31m         \u001b[0;32mreturn\u001b[0m \u001b[0mself\u001b[0m\u001b[0;34m.\u001b[0m\u001b[0m_data\u001b[0m\u001b[0;34m[\u001b[0m\u001b[0mkey\u001b[0m\u001b[0;34m]\u001b[0m\u001b[0;34m\u001b[0m\u001b[0;34m\u001b[0m\u001b[0m\n\u001b[0m\u001b[1;32m    175\u001b[0m \u001b[0;34m\u001b[0m\u001b[0m\n\u001b[1;32m    176\u001b[0m     \u001b[0;32mdef\u001b[0m \u001b[0mto_dataset\u001b[0m\u001b[0;34m(\u001b[0m\u001b[0mself\u001b[0m\u001b[0;34m)\u001b[0m\u001b[0;34m:\u001b[0m\u001b[0;34m\u001b[0m\u001b[0;34m\u001b[0m\u001b[0m\n",
      "\u001b[0;32m~/Python/anaconda3/lib/python3.7/site-packages/xarray/core/dataset.py\u001b[0m in \u001b[0;36m__getitem__\u001b[0;34m(self, key)\u001b[0m\n\u001b[1;32m   1056\u001b[0m \u001b[0;34m\u001b[0m\u001b[0m\n\u001b[1;32m   1057\u001b[0m         \u001b[0;32mif\u001b[0m \u001b[0mhashable\u001b[0m\u001b[0;34m(\u001b[0m\u001b[0mkey\u001b[0m\u001b[0;34m)\u001b[0m\u001b[0;34m:\u001b[0m\u001b[0;34m\u001b[0m\u001b[0;34m\u001b[0m\u001b[0m\n\u001b[0;32m-> 1058\u001b[0;31m             \u001b[0;32mreturn\u001b[0m \u001b[0mself\u001b[0m\u001b[0;34m.\u001b[0m\u001b[0m_construct_dataarray\u001b[0m\u001b[0;34m(\u001b[0m\u001b[0mkey\u001b[0m\u001b[0;34m)\u001b[0m\u001b[0;34m\u001b[0m\u001b[0;34m\u001b[0m\u001b[0m\n\u001b[0m\u001b[1;32m   1059\u001b[0m         \u001b[0;32melse\u001b[0m\u001b[0;34m:\u001b[0m\u001b[0;34m\u001b[0m\u001b[0;34m\u001b[0m\u001b[0m\n\u001b[1;32m   1060\u001b[0m             \u001b[0;32mreturn\u001b[0m \u001b[0mself\u001b[0m\u001b[0;34m.\u001b[0m\u001b[0m_copy_listed\u001b[0m\u001b[0;34m(\u001b[0m\u001b[0mnp\u001b[0m\u001b[0;34m.\u001b[0m\u001b[0masarray\u001b[0m\u001b[0;34m(\u001b[0m\u001b[0mkey\u001b[0m\u001b[0;34m)\u001b[0m\u001b[0;34m)\u001b[0m\u001b[0;34m\u001b[0m\u001b[0;34m\u001b[0m\u001b[0m\n",
      "\u001b[0;32m~/Python/anaconda3/lib/python3.7/site-packages/xarray/core/dataset.py\u001b[0m in \u001b[0;36m_construct_dataarray\u001b[0;34m(self, name)\u001b[0m\n\u001b[1;32m    977\u001b[0m         \u001b[0;32mexcept\u001b[0m \u001b[0mKeyError\u001b[0m\u001b[0;34m:\u001b[0m\u001b[0;34m\u001b[0m\u001b[0;34m\u001b[0m\u001b[0m\n\u001b[1;32m    978\u001b[0m             _, name, variable = _get_virtual_variable(\n\u001b[0;32m--> 979\u001b[0;31m                 self._variables, name, self._level_coords, self.dims)\n\u001b[0m\u001b[1;32m    980\u001b[0m \u001b[0;34m\u001b[0m\u001b[0m\n\u001b[1;32m    981\u001b[0m         \u001b[0mneeded_dims\u001b[0m \u001b[0;34m=\u001b[0m \u001b[0mset\u001b[0m\u001b[0;34m(\u001b[0m\u001b[0mvariable\u001b[0m\u001b[0;34m.\u001b[0m\u001b[0mdims\u001b[0m\u001b[0;34m)\u001b[0m\u001b[0;34m\u001b[0m\u001b[0;34m\u001b[0m\u001b[0m\n",
      "\u001b[0;32m~/Python/anaconda3/lib/python3.7/site-packages/xarray/core/dataset.py\u001b[0m in \u001b[0;36m_get_virtual_variable\u001b[0;34m(variables, key, level_vars, dim_sizes)\u001b[0m\n\u001b[1;32m     80\u001b[0m         \u001b[0mref_var\u001b[0m \u001b[0;34m=\u001b[0m \u001b[0mdim_var\u001b[0m\u001b[0;34m.\u001b[0m\u001b[0mto_index_variable\u001b[0m\u001b[0;34m(\u001b[0m\u001b[0;34m)\u001b[0m\u001b[0;34m.\u001b[0m\u001b[0mget_level_variable\u001b[0m\u001b[0;34m(\u001b[0m\u001b[0mref_name\u001b[0m\u001b[0;34m)\u001b[0m\u001b[0;34m\u001b[0m\u001b[0;34m\u001b[0m\u001b[0m\n\u001b[1;32m     81\u001b[0m     \u001b[0;32melse\u001b[0m\u001b[0;34m:\u001b[0m\u001b[0;34m\u001b[0m\u001b[0;34m\u001b[0m\u001b[0m\n\u001b[0;32m---> 82\u001b[0;31m         \u001b[0mref_var\u001b[0m \u001b[0;34m=\u001b[0m \u001b[0mvariables\u001b[0m\u001b[0;34m[\u001b[0m\u001b[0mref_name\u001b[0m\u001b[0;34m]\u001b[0m\u001b[0;34m\u001b[0m\u001b[0;34m\u001b[0m\u001b[0m\n\u001b[0m\u001b[1;32m     83\u001b[0m \u001b[0;34m\u001b[0m\u001b[0m\n\u001b[1;32m     84\u001b[0m     \u001b[0;32mif\u001b[0m \u001b[0mvar_name\u001b[0m \u001b[0;32mis\u001b[0m \u001b[0;32mNone\u001b[0m\u001b[0;34m:\u001b[0m\u001b[0;34m\u001b[0m\u001b[0;34m\u001b[0m\u001b[0m\n",
      "\u001b[0;31mKeyError\u001b[0m: 'mask'"
     ]
    }
   ],
   "source": [
    "npixel = 0          # a counter\n",
    "\n",
    "# open output table for writing\n",
    "with open(\"result/blue_albedo_2018.dat\", \"w\") as f:\n",
    "    \n",
    "    # iterate over rows\n",
    "    for i in range(0, ds.y.size):\n",
    "        \n",
    "        # iterate over columns\n",
    "        for j in range(0, ds.x.size):\n",
    "        \n",
    "            # select pixel\n",
    "            tmp = ds.isel(x=i, y=j)\n",
    "            \n",
    "            # if mask value == True (valid data)\n",
    "            if tmp.coords[\"mask\"]:\n",
    "                \n",
    "                # join row items with tabs and write\n",
    "                f.write(\"\\t\".join([\n",
    "                    str(npixel),\n",
    "                    str(tmp.lat.data),\n",
    "                    str(tmp.lon.data),\n",
    "                    \"\\t\".join([str(v) for v in tmp.data])]) + \"\\n\")\n",
    "            \n",
    "            # update progress bar\n",
    "            update_progress((i * ds.y.size + j) / ds.xyindex.size)\n",
    "\n",
    "update_progress(1) # done"
   ]
  },
  {
   "cell_type": "code",
   "execution_count": null,
   "metadata": {},
   "outputs": [],
   "source": [
    "# open output table for writing\n",
    "with open(\"result/blue_albedo_2018.dat\", \"w\") as f:\n",
    "    \n",
    "    # iterate over rows\n",
    "    for i in range(0, test.y.size):\n",
    "        \n",
    "        # iterate over columns\n",
    "        for j in range(0, test.x.size):\n",
    "        \n",
    "            update_progress(i/test.xyindex.size)\n",
    "\n",
    "\n",
    "#update_progress(1)"
   ]
  },
  {
   "cell_type": "code",
   "execution_count": null,
   "metadata": {},
   "outputs": [],
   "source": []
  },
  {
   "cell_type": "code",
   "execution_count": null,
   "metadata": {},
   "outputs": [],
   "source": [
    "#masked = ds[\"black_sky_albedo\"].groupby(\"xyindex\").apply(xr.ufuncs.isnan)\n",
    "#masked\n",
    "\n",
    "\n",
    "test = black_sky_albedo.isel(x=slice(0, 100), y=slice(0,100))\n",
    "\n",
    "test.groupby(\"xyindex\")"
   ]
  },
  {
   "cell_type": "markdown",
   "metadata": {},
   "source": [
    "## Plots\n",
    "\n",
    "```python\n",
    "import cartopy.crs as ccrs\n",
    "\n",
    "bsamo.plot.pcolormesh(\n",
    "    'xdim', \n",
    "    'ydim', \n",
    "    col='month', \n",
    "    col_wrap=3, \n",
    "    robust=True, \n",
    "    figsize=(16,18),\n",
    "    #transform=ccrs.Sinusoidal(),\n",
    "    #subplot_kws={'projection': ccrs.Sinusoidal(-82, 28)}\n",
    ")\n",
    "\n",
    "ax.set_yticklabels([])\n",
    "ax.set_xticklabels([])\n",
    "\n",
    "###########################3\n",
    "\n",
    "bsa[0].plot.pcolormesh(x='x', y='y', robust=True, figsize=(10, 9),)\n",
    "wsa[0].plot.pcolormesh(x='x', y='y', robust=True, figsize=(10, 9),)\n",
    "alb[0].plot.pcolormesh(x='x', y='y', robust=True, figsize=(10, 9),)\n",
    "\n",
    "```"
   ]
  },
  {
   "cell_type": "code",
   "execution_count": null,
   "metadata": {},
   "outputs": [],
   "source": [
    "import glob\n",
    "f = glob.glob(\"result/*\"); f"
   ]
  },
  {
   "cell_type": "code",
   "execution_count": null,
   "metadata": {},
   "outputs": [],
   "source": [
    "import xarray as xr\n",
    "ds = xr.open_dataset(f[0]); ds"
   ]
  },
  {
   "cell_type": "code",
   "execution_count": null,
   "metadata": {},
   "outputs": [],
   "source": [
    "b1 = xr.open_dataset(f[0], group=\"BRDF_Albedo_Parameters_Band1\"); b1"
   ]
  },
  {
   "cell_type": "code",
   "execution_count": null,
   "metadata": {},
   "outputs": [],
   "source": [
    "1/0.001"
   ]
  },
  {
   "cell_type": "code",
   "execution_count": null,
   "metadata": {},
   "outputs": [],
   "source": [
    "for i, b in enumerate([\n",
    "    \"BRDF_Albedo_Parameters_Band1\",\n",
    "    \"BRDF_Albedo_Parameters_Band2\",\n",
    "    \"BRDF_Albedo_Parameters_Band3\",\n",
    "    \"BRDF_Albedo_Parameters_Band4\",\n",
    "    \"BRDF_Albedo_Parameters_Band5\",\n",
    "    \"BRDF_Albedo_Parameters_Band6\",\n",
    "    \"BRDF_Albedo_Parameters_Band7\",\n",
    "    \"BRDF_Albedo_Parameters_nir\",\n",
    "    \"BRDF_Albedo_Parameters_shortwave\",\n",
    "    \"BRDF_Albedo_Parameters_vis\",\n",
    "]):\n",
    "    mode = \"a\" if i!=0 else \"w\" \n",
    "    b1 = xr.open_dataset(f[0], group=b)*1000\n",
    "    b1.to_netcdf(\"result/fix.nc\", mode=mode, group=b)"
   ]
  },
  {
   "cell_type": "code",
   "execution_count": null,
   "metadata": {},
   "outputs": [],
   "source": []
  },
  {
   "cell_type": "code",
   "execution_count": null,
   "metadata": {},
   "outputs": [],
   "source": []
  },
  {
   "cell_type": "code",
   "execution_count": null,
   "metadata": {},
   "outputs": [],
   "source": []
  },
  {
   "cell_type": "code",
   "execution_count": null,
   "metadata": {},
   "outputs": [],
   "source": []
  },
  {
   "cell_type": "code",
   "execution_count": null,
   "metadata": {},
   "outputs": [],
   "source": []
  },
  {
   "cell_type": "code",
   "execution_count": null,
   "metadata": {},
   "outputs": [],
   "source": []
  },
  {
   "cell_type": "code",
   "execution_count": null,
   "metadata": {},
   "outputs": [],
   "source": []
  },
  {
   "cell_type": "code",
   "execution_count": null,
   "metadata": {},
   "outputs": [],
   "source": [
    "b1[\"blue_sky_albedo\"].min()"
   ]
  },
  {
   "cell_type": "code",
   "execution_count": null,
   "metadata": {},
   "outputs": [],
   "source": [
    "import cartopy.crs as ccrs\n",
    "\n",
    "\n",
    "#bq[0].plot.pcolormesh(x='x', y='y', robust=True, figsize=(10, 9),)\n",
    "b1[\"blue_sky_albedo\"].attrs[\"scale_factor\"] = None\n",
    "blue_test = b1[\"blue_sky_albedo\"].groupby(\"time.month\").mean(\"time\")\n",
    "blue_test"
   ]
  },
  {
   "cell_type": "markdown",
   "metadata": {},
   "source": []
  },
  {
   "cell_type": "code",
   "execution_count": null,
   "metadata": {},
   "outputs": [],
   "source": [
    "blue_test.plot.pcolormesh(\n",
    "    'x', \n",
    "    'y', \n",
    "    col='month', \n",
    "    col_wrap=3, \n",
    "    robust=True, \n",
    "    figsize=(10,11),\n",
    "    transform=ccrs.Sinusoidal(),\n",
    "    subplot_kws={'projection': ccrs.Sinusoidal(-82, 28)})\n",
    "\n",
    "###########################3\n",
    "\n",
    "#bsa[0].plot.pcolormesh(x='x', y='y', robust=True, figsize=(10, 9),)\n",
    "#wsa[0].plot.pcolormesh(x='x', y='y', robust=True, figsize=(10, 9),)\n",
    "#alb[0].plot.pcolormesh(x='x', y='y', robust=True, figsize=(10, 9),)"
   ]
  },
  {
   "cell_type": "code",
   "execution_count": null,
   "metadata": {},
   "outputs": [],
   "source": [
    "%matplotlib inline\n",
    "import cartopy.feature as feat\n",
    "import cartopy.crs as ccrs\n",
    "import matplotlib.pyplot as plt\n",
    "import matplotlib\n",
    "matplotlib.rc('font', **{\n",
    "    'family': 'normal', \n",
    "    'weight': 'normal', \n",
    "    'size': 16})"
   ]
  },
  {
   "cell_type": "code",
   "execution_count": null,
   "metadata": {},
   "outputs": [],
   "source": [
    "plt.figure(1, figsize=(15,7))\n",
    "\n",
    "time = ds[\"time\"]\n",
    "\n",
    "# ----------------------------------------------------------------------------\n",
    "# iterate over bands\n",
    "\n",
    "for b in [\n",
    "    \"BRDF_Albedo_Parameters_Band1\",\n",
    "    \"BRDF_Albedo_Parameters_Band2\",\n",
    "    \"BRDF_Albedo_Parameters_Band3\",\n",
    "    \"BRDF_Albedo_Parameters_Band4\",\n",
    "    \"BRDF_Albedo_Parameters_Band5\",\n",
    "    \"BRDF_Albedo_Parameters_Band6\",\n",
    "    \"BRDF_Albedo_Parameters_Band7\",\n",
    "    \"BRDF_Albedo_Parameters_nir\",\n",
    "    \"BRDF_Albedo_Parameters_shortwave\",\n",
    "    \"BRDF_Albedo_Parameters_vis\"]:  \n",
    "    \n",
    "    print(b)\n",
    "    band = xr.open_dataset(f[0], group=b)       # get band\n",
    "    mean = band.groupby(\"time.season\").mean(    # map mean over albedos\n",
    "        [\"x\",\"y\"], keep_attrs=True)\n",
    "    \n",
    "    for i, a in enumerate([                     # loop over albedos\n",
    "        (\"black_sky_albedo\", \"black\"),\n",
    "        (\"white_sky_albedo\", \"lightgray\"),\n",
    "        (\"blue_sky_albedo\", \"blue\")]):\n",
    "        \n",
    "        albedo = mean[a[0]]                     # get albedo\n",
    "        plt.subplot(311+i)                      # set subplot\n",
    "        plt.plot(time, albedo*10000,)           # plot\n",
    "\n",
    "plt.show()"
   ]
  },
  {
   "cell_type": "markdown",
   "metadata": {},
   "source": [
    "## Bonus\n",
    "\n",
    "### Linear regression"
   ]
  },
  {
   "cell_type": "code",
   "execution_count": null,
   "metadata": {},
   "outputs": [],
   "source": [
    "import numpy as np\n",
    "import xarray as xr\n",
    "from scipy import stats\n",
    "\n",
    "\n",
    "def xr_linear(xarr): \n",
    "    \"\"\"Linear regression over xarray.DataArray time dimension.\"\"\"\n",
    "    \n",
    "    # getting shapes\n",
    "    m = np.prod(xarr.shape[1:]).squeeze()\n",
    "    n = xarr.shape[0]\n",
    "    \n",
    "    # create x and y variables\n",
    "    x = xarr.time.to_pandas().index.to_julian_date().values[:, None]\n",
    "    y = xarr.to_masked_array().reshape(n, -1)\n",
    "    \n",
    "    # regression\n",
    "    xm = x.mean(0)  # mean\n",
    "    ym = y.mean(0)  # mean\n",
    "    ya = y - ym  # anomaly\n",
    "    xa = x - xm  # anomaly\n",
    "    \n",
    "    # variance and covariances\n",
    "    xss = (xa ** 2).sum(0) / (n - 1)  # variance of x (with df as n-1)\n",
    "    yss = (ya ** 2).sum(0) / (n - 1)  # variance of y (with df as n-1)\n",
    "    xys = (xa * ya).sum(0) / (n - 1)  # covariance (with df as n-1)\n",
    "    \n",
    "    # slope and intercept\n",
    "    slope = xys / xss\n",
    "    intercept = ym - (slope * xm)\n",
    "    \n",
    "    # statistics about fit\n",
    "    df = n - 2\n",
    "    r = xys / (xss * yss)**0.5\n",
    "    t = r * (df / ((1 - r) * (1 + r)))**0.5\n",
    "    p = stats.distributions.t.sf(abs(t), df)\n",
    "    out = xarr[:2].mean('time')\n",
    "    \n",
    "    # first create variable for slope and adjust meta   \n",
    "    xarr_slope = out.copy()\n",
    "    xarr_slope.name += '_slope'\n",
    "    xarr_slope.attrs['units'] = 'units / day'\n",
    "    xarr_slope.values = slope.reshape(xarr.shape[1:])\n",
    "    \n",
    "    # do the same for the p value\n",
    "    xarr_p = out.copy()\n",
    "    xarr_p.name += '_Pvalue'\n",
    "    xarr_p.attrs['info'] = (\"If p < 0.05 then the results from\"\n",
    "                            \" 'slope' are significant.\")\n",
    "    xarr_p.values = p.reshape(xarr.shape[1:])\n",
    "    xarr_out = xarr_slope.to_dataset(name='slope')\n",
    "    xarr_out['pval'] = xarr_p\n",
    "\n",
    "    return(xarr_out)"
   ]
  },
  {
   "cell_type": "markdown",
   "metadata": {},
   "source": [
    "## Seasons\n",
    "\n",
    "### seasons\n",
    "Three-monthly: `['DJF', 'MAM', 'JJA', 'SON']`"
   ]
  },
  {
   "cell_type": "code",
   "execution_count": null,
   "metadata": {},
   "outputs": [],
   "source": [
    "b1 = xr.open_dataset(f[0], group=\"BRDF_Albedo_Parameters_Band1\")\n",
    "b1"
   ]
  },
  {
   "cell_type": "code",
   "execution_count": null,
   "metadata": {},
   "outputs": [],
   "source": [
    "b1means = b1.groupby(\"time.season\").mean([\"x\",\"y\"], keep_attrs=True)\n",
    "b1means[\"blue_sky_albedo\"]"
   ]
  },
  {
   "cell_type": "code",
   "execution_count": null,
   "metadata": {
    "scrolled": false
   },
   "outputs": [],
   "source": [
    "import xarray.plot as xplt\n",
    "\n",
    "fig, axes = plt.subplots(ncols=2, nrows=2, figsize=(15,4))\n",
    "\n",
    "alb = [\"black_sky_albedo\", \"white_sky_albedo\", \"blue_sky_albedo\"] \n",
    "b1means.isel(season=\"DJF\")[\"black_sky_albedo\"].plot.line(ax=axes[0])"
   ]
  }
 ],
 "metadata": {
  "kernelspec": {
   "display_name": "Python 3",
   "language": "python",
   "name": "python3"
  },
  "language_info": {
   "codemirror_mode": {
    "name": "ipython",
    "version": 3
   },
   "file_extension": ".py",
   "mimetype": "text/x-python",
   "name": "python",
   "nbconvert_exporter": "python",
   "pygments_lexer": "ipython3",
   "version": "3.7.3"
  },
  "toc": {
   "base_numbering": 1,
   "nav_menu": {},
   "number_sections": true,
   "sideBar": true,
   "skip_h1_title": true,
   "title_cell": "Table of Contents",
   "title_sidebar": "Contents",
   "toc_cell": true,
   "toc_position": {},
   "toc_section_display": true,
   "toc_window_display": true
  }
 },
 "nbformat": 4,
 "nbformat_minor": 2
}
