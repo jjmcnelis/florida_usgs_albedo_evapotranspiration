{
 "cells": [
  {
   "cell_type": "markdown",
   "metadata": {
    "toc": true
   },
   "source": [
    "<h1>Table of Contents<span class=\"tocSkip\"></span></h1>\n",
    "<div class=\"toc\"><ul class=\"toc-item\"><li><span><a href=\"#Reformat-for-Florida-USGS\" data-toc-modified-id=\"Reformat-for-Florida-USGS-1\"><span class=\"toc-item-num\">1&nbsp;&nbsp;</span>Reformat for Florida USGS</a></span><ul class=\"toc-item\"><li><span><a href=\"#NoData-mask\" data-toc-modified-id=\"NoData-mask-1.1\"><span class=\"toc-item-num\">1.1&nbsp;&nbsp;</span>NoData mask</a></span></li><li><span><a href=\"#Solar-Zenith-Angles\" data-toc-modified-id=\"Solar-Zenith-Angles-1.2\"><span class=\"toc-item-num\">1.2&nbsp;&nbsp;</span>Solar Zenith Angles</a></span></li><li><span><a href=\"#Pixel-index\" data-toc-modified-id=\"Pixel-index-1.3\"><span class=\"toc-item-num\">1.3&nbsp;&nbsp;</span>Pixel index</a></span></li><li><span><a href=\"#(Potentially-useful-code)\" data-toc-modified-id=\"(Potentially-useful-code)-1.4\"><span class=\"toc-item-num\">1.4&nbsp;&nbsp;</span>(Potentially useful code)</a></span></li><li><span><a href=\"#Write-text-outputs\" data-toc-modified-id=\"Write-text-outputs-1.5\"><span class=\"toc-item-num\">1.5&nbsp;&nbsp;</span>Write text outputs</a></span></li></ul></li><li><span><a href=\"#Albedo\" data-toc-modified-id=\"Albedo-2\"><span class=\"toc-item-num\">2&nbsp;&nbsp;</span>Albedo</a></span></li></ul></div>"
   ]
  },
  {
   "cell_type": "markdown",
   "metadata": {},
   "source": [
    "# Results\n",
    "## Reformat for Florida USGS\n",
    "*Write to text file structure required by the Florida USGS evapotranspiration model.*\n",
    "\n",
    "Glob for the result dataset(s) and print the header for one of them:"
   ]
  },
  {
   "cell_type": "code",
   "execution_count": 1,
   "metadata": {},
   "outputs": [
    {
     "name": "stdout",
     "output_type": "stream",
     "text": [
      "Black sky albedo outputs for 2018:\n"
     ]
    },
    {
     "data": {
      "text/plain": [
       "['result/black_albedo_MCD43A1.2018_1.nc',\n",
       " 'result/black_albedo_MCD43A1.2018_2.nc',\n",
       " 'result/black_albedo_MCD43A1.2018_3.nc',\n",
       " 'result/black_albedo_MCD43A1.2018_4.nc',\n",
       " 'result/black_albedo_MCD43A1.2018_5.nc',\n",
       " 'result/black_albedo_MCD43A1.2018_6.nc',\n",
       " 'result/black_albedo_MCD43A1.2018_7.nc',\n",
       " 'result/black_albedo_MCD43A1.2018_8.nc',\n",
       " 'result/black_albedo_MCD43A1.2018_9.nc',\n",
       " 'result/black_albedo_MCD43A1.2018_10.nc',\n",
       " 'result/black_albedo_MCD43A1.2018_11.nc',\n",
       " 'result/black_albedo_MCD43A1.2018_12.nc']"
      ]
     },
     "execution_count": 1,
     "metadata": {},
     "output_type": "execute_result"
    }
   ],
   "source": [
    "import glob\n",
    "import matplotlib.pyplot as plt\n",
    "\n",
    "import warnings; warnings.filterwarnings('ignore')\n",
    "sort2 = lambda ls: sorted(ls, key=lambda x: int(x.split(\"_\")[-1][:-3]))\n",
    "\n",
    "bsa_result = sort2(glob.glob(\"result/black_albedo*.nc\"))\n",
    "wsa_result = sort2(glob.glob(\"result/white_albedo*.nc\"))\n",
    "alb_result = sort2(glob.glob(\"result/blue_albedo*.nc\"))\n",
    "\n",
    "print(\"Black sky albedo outputs for 2018:\"); bsa_result"
   ]
  },
  {
   "cell_type": "markdown",
   "metadata": {},
   "source": [
    "Read the twelve black sky albedo netCDFs as a multidataset and print the header:"
   ]
  },
  {
   "cell_type": "code",
   "execution_count": 2,
   "metadata": {
    "scrolled": false
   },
   "outputs": [],
   "source": [
    "import xarray as xr\n",
    "import pandas as pd\n",
    "import numpy as np\n",
    "np.set_printoptions(suppress=True)\n",
    "\n",
    "ds = xr.open_dataset(bsa_result[0])"
   ]
  },
  {
   "cell_type": "markdown",
   "metadata": {},
   "source": [
    "### NoData mask\n",
    "Make an array of booleans that represent masked pixels by reading the first timestep of the input dataset and checking for `np.nan`:"
   ]
  },
  {
   "cell_type": "code",
   "execution_count": 3,
   "metadata": {},
   "outputs": [
    {
     "data": {
      "text/plain": [
       "array([[False, False, False, ..., False, False, False],\n",
       "       [False, False, False, ..., False, False, False],\n",
       "       [False, False, False, ..., False, False, False],\n",
       "       ...,\n",
       "       [False, False, False, ..., False, False, False],\n",
       "       [False, False, False, ..., False, False, False],\n",
       "       [False, False, False, ..., False, False, False]])"
      ]
     },
     "execution_count": 3,
     "metadata": {},
     "output_type": "execute_result"
    }
   ],
   "source": [
    "# temporarily open the input dataset that we processed previously\n",
    "with xr.open_dataset(\"data/MCD43A1.2018.nc\") as tmp:\n",
    "    \n",
    "    # select timestep 1 of band 1 of the input dataset\n",
    "    tmp_array = tmp[\"BRDF_Albedo_Parameters_Band1\"][0].sel(Num_Parameters=0)\n",
    "    \n",
    "    # get the inverse of the boolean array of invalid pixels\n",
    "    mask_array = np.logical_not(np.isnan(tmp_array.data))\n",
    "\n",
    "mask_array"
   ]
  },
  {
   "cell_type": "markdown",
   "metadata": {},
   "source": [
    "Make an `xarray.DataArray` for the mask and add it to the results dataset:"
   ]
  },
  {
   "cell_type": "code",
   "execution_count": 4,
   "metadata": {
    "scrolled": false
   },
   "outputs": [
    {
     "data": {
      "text/plain": [
       "<matplotlib.collections.QuadMesh at 0x7fcc0bc10e80>"
      ]
     },
     "execution_count": 4,
     "metadata": {},
     "output_type": "execute_result"
    },
    {
     "data": {
      "image/png": "[encoded data removed]",
      "text/plain": [
       "<Figure size 792x720 with 2 Axes>"
      ]
     },
     "metadata": {
      "needs_background": "light"
     },
     "output_type": "display_data"
    }
   ],
   "source": [
    "%matplotlib inline\n",
    "\n",
    "ds.coords[\"land_mask\"] = xr.DataArray(\n",
    "    data=mask_array,\n",
    "    coords=[ds.y, ds.x],\n",
    "    dims=[\"y\", \"x\"],\n",
    "    attrs=dict(\n",
    "        grid_mapping=\"crs\", \n",
    "        flag_values=\"0 1\", \n",
    "        flag_meanings=\"nodata data\"))\n",
    "\n",
    "ds.coords[\"land_mask\"].plot(x=\"x\", y=\"y\", figsize=(11,10))"
   ]
  },
  {
   "cell_type": "markdown",
   "metadata": {},
   "source": [
    "### Solar Zenith Angles"
   ]
  },
  {
   "cell_type": "code",
   "execution_count": 5,
   "metadata": {},
   "outputs": [
    {
     "data": {
      "text/plain": [
       "<cartopy.mpl.feature_artist.FeatureArtist at 0x7fcc5f372208>"
      ]
     },
     "execution_count": 5,
     "metadata": {},
     "output_type": "execute_result"
    },
    {
     "data": {
      "image/png": "[encoded data removed]",
      "text/plain": [
       "<Figure size 576x504 with 2 Axes>"
      ]
     },
     "metadata": {
      "needs_background": "light"
     },
     "output_type": "display_data"
    }
   ],
   "source": [
    "import cartopy.crs as ccrs\n",
    "\n",
    "sinu = ccrs.Sinusoidal(\n",
    "    central_longitude=ds.crs.longitude_of_central_meridian, \n",
    "    false_northing=ds.crs.false_northing, \n",
    "    false_easting=ds.crs.false_northing, \n",
    "    globe=None)\n",
    "\n",
    "fig = plt.figure(figsize=(8,7))\n",
    "ax = plt.axes(projection=sinu)\n",
    "ds[\"solar_zenith_angle\"][0].plot(ax=ax)\n",
    "ax.coastlines()"
   ]
  },
  {
   "cell_type": "markdown",
   "metadata": {},
   "source": [
    "### Pixel index\n",
    "\n",
    "Make an array of index values for the permuted xy arrays. The evapotranspiration model takes inputs that sequence in column-major order:\n",
    "```\n",
    " 1  24.249  -79.398  0.000 0.000 0.000 ... \n",
    " 2  24.266  -79.398  0.000 0.000 0.000 ...\n",
    " 3  24.284  -79.398  0.000 0.000 0.000 ...\n",
    " 4  24.302  -79.398  0.000 0.000 0.000 ...  \n",
    "```\n",
    "\n",
    "But `xarray`'s mappings are more convenient. So, reshape the index array using the shape of longitude array in the results dataset:"
   ]
  },
  {
   "cell_type": "markdown",
   "metadata": {},
   "source": [
    "### (Potentially useful code)\n",
    "\n",
    "Coordinate array for `xyindex`:\n",
    "```python\n",
    "xyindex = np.array(list(range(ds.x.size*ds.y.size)))    # seq 1 to npixels\n",
    "xyindex = xyindex.reshape(ds.lon.shape)                 # reshape with lon\n",
    "\n",
    "ds.coords[\"xyindex\"] = xr.DataArray(\n",
    "    data=xyindex,\n",
    "    coords=[ds.y, ds.x],\n",
    "    dims=[\"y\", \"x\"])\n",
    "\n",
    "ds[\"xyindex\"].plot(x=\"x\", y=\"y\", figsize=(6,5))\n",
    "```\n",
    "\n",
    "Dask piping:\n",
    "```python\n",
    "df = dd.from_pandas(pd.DataFrame(load_boston().data),npartitions=10)\n",
    "\n",
    "def operation(df):\n",
    "   df['new'] = df[0]\n",
    "   return(df[['new']])\n",
    "\n",
    "df.pipe(operation).to_csv('boston*.csv')\n",
    "```\n",
    "\n",
    "Simple progress widget:\n",
    "```python\n",
    "import time, sys\n",
    "from IPython.display import clear_output\n",
    "\n",
    "def update_progress(progress, nbar=20):\n",
    "    \"\"\"Simple ASCII progress bar for Jupyter environment.\"\"\"\n",
    "    \n",
    "    if isinstance(progress, int): \n",
    "        progress = float(progress)\n",
    "    if not isinstance(progress, float): \n",
    "        progress = 0\n",
    "    if progress < 0: \n",
    "        progress = 0\n",
    "    if progress >= 1: \n",
    "        progress = 1\n",
    "    block = int(round(nbar*progress))\n",
    "    \n",
    "    clear_output(wait = True)\n",
    "    prog = \"Progress: [{0}] {1:.1f}%\"\n",
    "    print(prog.format(\"#\"*block+\"-\"*(nbar-block), progress*100))\n",
    "```"
   ]
  },
  {
   "cell_type": "markdown",
   "metadata": {},
   "source": [
    "### Write text outputs\n",
    "\n",
    "Now write each valid pixel's time series to output text files. We'll concatenate them column-wise in shell script. This could take a while so import the progress bar from dask. \n",
    "\n",
    "The for loop below is iterating over the output netCDF files and reformatting as text files where columns are timesteps and rows are pixels:"
   ]
  },
  {
   "cell_type": "code",
   "execution_count": null,
   "metadata": {},
   "outputs": [
    {
     "name": "stdout",
     "output_type": "stream",
     "text": [
      "result/black_albedo_MCD43A1.2018_1.nc\n",
      "[########################################] | 100% Completed | 14.1s\n",
      "[################################        ] | 81% Completed | 22min 17.6s"
     ]
    }
   ],
   "source": [
    "from dask.diagnostics import ProgressBar\n",
    "\n",
    "\n",
    "for f in (bsa_result + wsa_result + alb_result):\n",
    "    print(f)\n",
    "    \n",
    "    # make a numpy array to serve as pixel index\n",
    "    xyi = np.array(list(range(ds.x.size*ds.y.size)))\n",
    "\n",
    "    # reshape band data to match USGS model requirement\n",
    "    b1 = ds[\"BRDF_Albedo_Parameters_Band1\"]\n",
    "\n",
    "    # reshape continue\n",
    "    b1stack = b1.stack(xy=(\"x\",\"y\"))\n",
    "    b1flat = b1stack.reset_index([\"xy\"])\n",
    "    b1flat.coords[\"xy\"] = xr.DataArray(data=xyi, dims=[\"xy\"])\n",
    "    b1tflat = b1flat.T\n",
    "\n",
    "    # convert to dask dataframe\n",
    "    b1srt_ddf = b1tflat.to_dataset().to_dask_dataframe()\n",
    "    \n",
    "    out = f[:-3]+\"-*.dat\"\n",
    "    with ProgressBar():\n",
    "        \n",
    "        b1srt_ddf = b1srt_ddf[b1srt_ddf.land_mask]\n",
    "        b1srt_ddf = b1srt_ddf.categorize(columns=['time'])\n",
    "        \n",
    "        b1srt_ddf.pivot_table(\n",
    "            values='BRDF_Albedo_Parameters_Band1', \n",
    "            index='xy', \n",
    "            columns='time'\n",
    "        ).to_csv(out, sep=\"\\t\")\n",
    "\n",
    "    #timeseries = None         # discard objects"
   ]
  },
  {
   "cell_type": "code",
   "execution_count": null,
   "metadata": {},
   "outputs": [],
   "source": []
  },
  {
   "cell_type": "markdown",
   "metadata": {},
   "source": []
  },
  {
   "cell_type": "code",
   "execution_count": null,
   "metadata": {},
   "outputs": [],
   "source": []
  },
  {
   "cell_type": "code",
   "execution_count": null,
   "metadata": {},
   "outputs": [],
   "source": []
  },
  {
   "cell_type": "code",
   "execution_count": null,
   "metadata": {},
   "outputs": [],
   "source": []
  },
  {
   "cell_type": "code",
   "execution_count": null,
   "metadata": {},
   "outputs": [],
   "source": []
  },
  {
   "cell_type": "code",
   "execution_count": null,
   "metadata": {},
   "outputs": [],
   "source": []
  },
  {
   "cell_type": "code",
   "execution_count": null,
   "metadata": {},
   "outputs": [],
   "source": []
  },
  {
   "cell_type": "code",
   "execution_count": null,
   "metadata": {},
   "outputs": [],
   "source": []
  },
  {
   "cell_type": "code",
   "execution_count": null,
   "metadata": {},
   "outputs": [],
   "source": []
  },
  {
   "cell_type": "code",
   "execution_count": null,
   "metadata": {},
   "outputs": [],
   "source": []
  },
  {
   "cell_type": "code",
   "execution_count": null,
   "metadata": {},
   "outputs": [],
   "source": []
  },
  {
   "cell_type": "code",
   "execution_count": null,
   "metadata": {},
   "outputs": [],
   "source": []
  },
  {
   "cell_type": "markdown",
   "metadata": {},
   "source": [
    "**THIS LOOP IS TOO SLOW**\n",
    "Loop over pixels and write valid data to text file:"
   ]
  },
  {
   "cell_type": "code",
   "execution_count": null,
   "metadata": {},
   "outputs": [],
   "source": [
    "npixel = 0\n",
    "\n",
    "tmpds = ds[\"BRDF_Albedo_Parameters_Band1\"]\n",
    "\n",
    "# open output table for writing\n",
    "with open(\"result/band1_black_2018.dat\", \"w\") as f:\n",
    "    \n",
    "    # iterate over rows\n",
    "    for i in range(0, tmpds.y.size):\n",
    "        \n",
    "        # iterate over columns\n",
    "        for j in range(0, tmpds.x.size):\n",
    "        \n",
    "            # select pixel\n",
    "            tmp = tmpds.isel(x=i, y=j)\n",
    "            \n",
    "            # if mask value == True (valid data)\n",
    "            if tmp.coords[\"mask\"]:\n",
    "                \n",
    "                # join row items with tabs and write\n",
    "                f.write(\"\\t\".join([\n",
    "                    str(npixel),\n",
    "                    str(tmp.lat.data),\n",
    "                    str(tmp.lon.data),\n",
    "                    \"\\t\".join([str(v) for v in tmp.data])]) + \"\\n\")\n",
    "            \n",
    "            # update progress bar\n",
    "            update_progress((i * tmpds.y.size + j) / tmpds.xyindex.size)\n",
    "\n",
    "update_progress(1) # done"
   ]
  },
  {
   "cell_type": "markdown",
   "metadata": {},
   "source": [
    "## Albedo"
   ]
  },
  {
   "cell_type": "code",
   "execution_count": null,
   "metadata": {
    "scrolled": true
   },
   "outputs": [],
   "source": [
    "t = ds[\"BRDF_Albedo_Parameters_Band1\"].groupby(\"time.month\").mean(\"time\")\n",
    "t"
   ]
  }
 ],
 "metadata": {
  "kernelspec": {
   "display_name": "Python 3",
   "language": "python",
   "name": "python3"
  },
  "language_info": {
   "codemirror_mode": {
    "name": "ipython",
    "version": 3
   },
   "file_extension": ".py",
   "mimetype": "text/x-python",
   "name": "python",
   "nbconvert_exporter": "python",
   "pygments_lexer": "ipython3",
   "version": "3.7.3"
  },
  "toc": {
   "base_numbering": 1,
   "nav_menu": {},
   "number_sections": true,
   "sideBar": true,
   "skip_h1_title": true,
   "title_cell": "Table of Contents",
   "title_sidebar": "Contents",
   "toc_cell": true,
   "toc_position": {},
   "toc_section_display": true,
   "toc_window_display": true
  }
 },
 "nbformat": 4,
 "nbformat_minor": 2
}
