{
 "cells": [
  {
   "cell_type": "markdown",
   "metadata": {
    "toc": true
   },
   "source": [
    "<h1>Table of Contents<span class=\"tocSkip\"></span></h1>\n",
    "<div class=\"toc\"><ul class=\"toc-item\"><li><span><a href=\"#Reformat\" data-toc-modified-id=\"Reformat-1\"><span class=\"toc-item-num\">1&nbsp;&nbsp;</span>Reformat</a></span><ul class=\"toc-item\"><li><span><a href=\"#NoData-mask\" data-toc-modified-id=\"NoData-mask-1.1\"><span class=\"toc-item-num\">1.1&nbsp;&nbsp;</span>NoData mask</a></span></li><li><span><a href=\"#Pixel-index\" data-toc-modified-id=\"Pixel-index-1.2\"><span class=\"toc-item-num\">1.2&nbsp;&nbsp;</span>Pixel index</a></span></li><li><span><a href=\"#Solar-Zenith-Angles\" data-toc-modified-id=\"Solar-Zenith-Angles-1.3\"><span class=\"toc-item-num\">1.3&nbsp;&nbsp;</span>Solar Zenith Angles</a></span></li></ul></li><li><span><a href=\"#Albedo\" data-toc-modified-id=\"Albedo-2\"><span class=\"toc-item-num\">2&nbsp;&nbsp;</span>Albedo</a></span></li><li><span><a href=\"#Write-text-outputs\" data-toc-modified-id=\"Write-text-outputs-3\"><span class=\"toc-item-num\">3&nbsp;&nbsp;</span>Write text outputs</a></span><ul class=\"toc-item\"><li><ul class=\"toc-item\"><li><span><a href=\"#THIS-LOOP-IS-TOO-SLOW\" data-toc-modified-id=\"THIS-LOOP-IS-TOO-SLOW-3.0.1\"><span class=\"toc-item-num\">3.0.1&nbsp;&nbsp;</span>THIS LOOP IS TOO SLOW</a></span></li></ul></li></ul></li><li><span><a href=\"#Plots\" data-toc-modified-id=\"Plots-4\"><span class=\"toc-item-num\">4&nbsp;&nbsp;</span>Plots</a></span></li><li><span><a href=\"#Bonus\" data-toc-modified-id=\"Bonus-5\"><span class=\"toc-item-num\">5&nbsp;&nbsp;</span>Bonus</a></span><ul class=\"toc-item\"><li><span><a href=\"#Linear-regression\" data-toc-modified-id=\"Linear-regression-5.1\"><span class=\"toc-item-num\">5.1&nbsp;&nbsp;</span>Linear regression</a></span></li></ul></li><li><span><a href=\"#Seasons\" data-toc-modified-id=\"Seasons-6\"><span class=\"toc-item-num\">6&nbsp;&nbsp;</span>Seasons</a></span><ul class=\"toc-item\"><li><span><a href=\"#seasons\" data-toc-modified-id=\"seasons-6.1\"><span class=\"toc-item-num\">6.1&nbsp;&nbsp;</span>seasons</a></span></li></ul></li></ul></div>"
   ]
  },
  {
   "cell_type": "markdown",
   "metadata": {},
   "source": [
    "# Results\n",
    "## Reformat \n",
    "*... our results netCDF(s) to match the input text file structure required by the Florida USGS evapotranspiration model.*\n",
    "\n",
    "Glob for the result dataset(s) and print the header for one of them:"
   ]
  },
  {
   "cell_type": "code",
   "execution_count": 1,
   "metadata": {},
   "outputs": [
    {
     "name": "stdout",
     "output_type": "stream",
     "text": [
      "Black sky albedo outputs for 2018:\n"
     ]
    },
    {
     "data": {
      "text/plain": [
       "['result/black_albedo_MCD43A1.2018_1.nc',\n",
       " 'result/black_albedo_MCD43A1.2018_2.nc',\n",
       " 'result/black_albedo_MCD43A1.2018_3.nc',\n",
       " 'result/black_albedo_MCD43A1.2018_4.nc',\n",
       " 'result/black_albedo_MCD43A1.2018_5.nc',\n",
       " 'result/black_albedo_MCD43A1.2018_6.nc',\n",
       " 'result/black_albedo_MCD43A1.2018_7.nc',\n",
       " 'result/black_albedo_MCD43A1.2018_8.nc',\n",
       " 'result/black_albedo_MCD43A1.2018_9.nc',\n",
       " 'result/black_albedo_MCD43A1.2018_10.nc',\n",
       " 'result/black_albedo_MCD43A1.2018_11.nc',\n",
       " 'result/black_albedo_MCD43A1.2018_12.nc']"
      ]
     },
     "execution_count": 1,
     "metadata": {},
     "output_type": "execute_result"
    }
   ],
   "source": [
    "import glob\n",
    "import matplotlib.pyplot as plt\n",
    "\n",
    "import warnings; warnings.filterwarnings('ignore')\n",
    "sort2 = lambda ls: sorted(ls, key=lambda x: int(x.split(\"_\")[-1][:-3]))\n",
    "\n",
    "bsa_result = sort2(glob.glob(\"result/black_albedo*.nc\"))\n",
    "wsa_result = sort2(glob.glob(\"result/white_albedo*.nc\"))\n",
    "alb_result = sort2(glob.glob(\"result/blue_albedo*.nc\"))\n",
    "\n",
    "print(\"Black sky albedo outputs for 2018:\"); bsa_result"
   ]
  },
  {
   "cell_type": "markdown",
   "metadata": {},
   "source": [
    "Read the twelve black sky albedo netCDFs as a multidataset and print the header:"
   ]
  },
  {
   "cell_type": "code",
   "execution_count": 2,
   "metadata": {
    "scrolled": false
   },
   "outputs": [],
   "source": [
    "import xarray as xr\n",
    "import pandas as pd\n",
    "import numpy as np\n",
    "np.set_printoptions(suppress=True)\n",
    "\n",
    "ds = xr.open_mfdataset(bsa_result)"
   ]
  },
  {
   "cell_type": "markdown",
   "metadata": {},
   "source": [
    "### NoData mask\n",
    "Make an array of booleans that represent masked pixels by reading the first timestep of the input dataset and checking for `np.nan`:"
   ]
  },
  {
   "cell_type": "code",
   "execution_count": 3,
   "metadata": {},
   "outputs": [
    {
     "data": {
      "text/plain": [
       "array([[False, False, False, ..., False, False, False],\n",
       "       [False, False, False, ..., False, False, False],\n",
       "       [False, False, False, ..., False, False, False],\n",
       "       ...,\n",
       "       [False, False, False, ..., False, False, False],\n",
       "       [False, False, False, ..., False, False, False],\n",
       "       [False, False, False, ..., False, False, False]])"
      ]
     },
     "execution_count": 3,
     "metadata": {},
     "output_type": "execute_result"
    }
   ],
   "source": [
    "# temporarily open the input dataset that we processed previously\n",
    "with xr.open_dataset(\"data/MCD43A1.2018.nc\") as tmp:\n",
    "    \n",
    "    # select timestep 1 of band 1 of the input dataset\n",
    "    tmp_array = tmp[\"BRDF_Albedo_Parameters_Band1\"][0].sel(Num_Parameters=0)\n",
    "    \n",
    "    # get the inverse of the boolean array of invalid pixels\n",
    "    mask_array = np.logical_not(np.isnan(tmp_array.data))\n",
    "\n",
    "mask_array"
   ]
  },
  {
   "cell_type": "markdown",
   "metadata": {},
   "source": [
    "Make an `xarray.DataArray` for the mask and add it to the results dataset:"
   ]
  },
  {
   "cell_type": "code",
   "execution_count": 4,
   "metadata": {},
   "outputs": [
    {
     "data": {
      "text/plain": [
       "<matplotlib.collections.QuadMesh at 0x7f14b119b198>"
      ]
     },
     "execution_count": 4,
     "metadata": {},
     "output_type": "execute_result"
    },
    {
     "data": {
      "image/png": "[encoded data removed]",
      "text/plain": [
       "<Figure size 792x720 with 2 Axes>"
      ]
     },
     "metadata": {
      "needs_background": "light"
     },
     "output_type": "display_data"
    }
   ],
   "source": [
    "%matplotlib inline\n",
    "\n",
    "ds.coords[\"mask\"] = xr.DataArray(\n",
    "    data=mask_array,\n",
    "    coords=[ds.y, ds.x],\n",
    "    dims=[\"y\", \"x\"],\n",
    "    attrs=dict(\n",
    "        grid_mapping=\"crs\", \n",
    "        flag_values=\"0 1\", \n",
    "        flag_meanings=\"nodata data\"))\n",
    "\n",
    "ds.coords[\"mask\"].plot(x=\"x\", y=\"y\", figsize=(11,10))"
   ]
  },
  {
   "cell_type": "markdown",
   "metadata": {},
   "source": [
    "### Pixel index\n",
    "\n",
    "Make an array of index values for the permuted xy arrays. The evapotranspiration model takes inputs that sequence in column-major order:\n",
    "```\n",
    " 1  24.249  -79.398  0.000 0.000 0.000 ... \n",
    " 2  24.266  -79.398  0.000 0.000 0.000 ...\n",
    " 3  24.284  -79.398  0.000 0.000 0.000 ...\n",
    " 4  24.302  -79.398  0.000 0.000 0.000 ...  \n",
    "```\n",
    "\n",
    "So, reshape the index array using the shape of longitude array in the results dataset:"
   ]
  },
  {
   "cell_type": "code",
   "execution_count": 5,
   "metadata": {},
   "outputs": [
    {
     "data": {
      "text/plain": [
       "array([[      0,       1,       2, ...,    1333,    1334,    1335],\n",
       "       [   1336,    1337,    1338, ...,    2669,    2670,    2671],\n",
       "       [   2672,    2673,    2674, ...,    4005,    4006,    4007],\n",
       "       ...,\n",
       "       [2073472, 2073473, 2073474, ..., 2074805, 2074806, 2074807],\n",
       "       [2074808, 2074809, 2074810, ..., 2076141, 2076142, 2076143],\n",
       "       [2076144, 2076145, 2076146, ..., 2077477, 2077478, 2077479]])"
      ]
     },
     "execution_count": 5,
     "metadata": {},
     "output_type": "execute_result"
    }
   ],
   "source": [
    "xyindex = np.array(list(range(ds.x.size*ds.y.size)))    # seq 1 to npixels\n",
    "xyindex = xyindex.reshape(ds.lon.shape)                 # reshape with lon\n",
    "\n",
    "xyindex"
   ]
  },
  {
   "cell_type": "markdown",
   "metadata": {},
   "source": [
    "Add `xyindex` array to the dataset as a coordinate variable:"
   ]
  },
  {
   "cell_type": "code",
   "execution_count": 6,
   "metadata": {},
   "outputs": [
    {
     "data": {
      "text/plain": [
       "<matplotlib.collections.QuadMesh at 0x7f14b072eba8>"
      ]
     },
     "execution_count": 6,
     "metadata": {},
     "output_type": "execute_result"
    },
    {
     "data": {
      "image/png": "[encoded data removed]",
      "text/plain": [
       "<Figure size 576x504 with 2 Axes>"
      ]
     },
     "metadata": {
      "needs_background": "light"
     },
     "output_type": "display_data"
    }
   ],
   "source": [
    "ds.coords[\"xyindex\"] = xr.DataArray(\n",
    "    data=xyindex,\n",
    "    coords=[ds.y, ds.x],\n",
    "    dims=[\"y\", \"x\"])\n",
    "\n",
    "ds[\"xyindex\"].plot(x=\"x\", y=\"y\", figsize=(8,7))"
   ]
  },
  {
   "cell_type": "markdown",
   "metadata": {},
   "source": [
    "### Solar Zenith Angles"
   ]
  },
  {
   "cell_type": "code",
   "execution_count": 7,
   "metadata": {},
   "outputs": [
    {
     "data": {
      "text/plain": [
       "<cartopy.mpl.feature_artist.FeatureArtist at 0x7f150286a978>"
      ]
     },
     "execution_count": 7,
     "metadata": {},
     "output_type": "execute_result"
    },
    {
     "data": {
      "image/png": "[encoded data removed]",
      "text/plain": [
       "<Figure size 576x504 with 2 Axes>"
      ]
     },
     "metadata": {
      "needs_background": "light"
     },
     "output_type": "display_data"
    }
   ],
   "source": [
    "import cartopy.crs as ccrs\n",
    "\n",
    "sinu = ccrs.Sinusoidal(\n",
    "    central_longitude=ds.crs.longitude_of_central_meridian, \n",
    "    false_northing=ds.crs.false_northing, \n",
    "    false_easting=ds.crs.false_northing, \n",
    "    globe=None)\n",
    "\n",
    "fig = plt.figure(figsize=(8,7))\n",
    "ax = plt.axes(projection=sinu)\n",
    "ds[\"solar_zenith_angle\"][0].plot(ax=ax)\n",
    "ax.coastlines()"
   ]
  },
  {
   "cell_type": "markdown",
   "metadata": {},
   "source": [
    "## Albedo"
   ]
  },
  {
   "cell_type": "code",
   "execution_count": 22,
   "metadata": {},
   "outputs": [
    {
     "data": {
      "text/plain": [
       "<xarray.DataArray 'BRDF_Albedo_Parameters_Band1' (month: 12, y: 1555, x: 1336)>\n",
       "dask.array<shape=(12, 1555, 1336), dtype=float64, chunksize=(1, 1555, 1336)>\n",
       "Coordinates:\n",
       "    lat      (y, x) float64 31.0 31.0 31.0 31.0 31.0 ... 24.53 24.53 24.53 24.53\n",
       "    lon      (y, x) float64 -88.17 -88.17 -88.16 -88.16 ... -76.97 -76.96 -76.96\n",
       "  * x        (x) float64 -8.404e+06 -8.403e+06 ... -7.786e+06 -7.785e+06\n",
       "  * y        (y) float64 3.447e+06 3.447e+06 3.446e+06 ... 2.728e+06 2.727e+06\n",
       "    mask     (y, x) bool False False False False ... False False False False\n",
       "    xyindex  (y, x) int64 0 1 2 3 4 ... 2077475 2077476 2077477 2077478 2077479\n",
       "  * month    (month) int64 1 2 3 4 5 6 7 8 9 10 11 12"
      ]
     },
     "execution_count": 22,
     "metadata": {},
     "output_type": "execute_result"
    }
   ],
   "source": [
    "t = ds[\"BRDF_Albedo_Parameters_Band1\"].groupby(\"time.month\").mean(\"time\")\n",
    "t"
   ]
  },
  {
   "cell_type": "markdown",
   "metadata": {},
   "source": [
    "## Write text outputs\n",
    "Now write each valid pixel's time series to an output text file. This could take a while so make a simple progress bar widget to monitor progress:"
   ]
  },
  {
   "cell_type": "code",
   "execution_count": null,
   "metadata": {},
   "outputs": [],
   "source": [
    "import time, sys\n",
    "from IPython.display import clear_output\n",
    "\n",
    "def update_progress(progress, nbar=20):\n",
    "    \"\"\"Simple ASCII progress bar for Jupyter environment.\"\"\"\n",
    "    \n",
    "    if isinstance(progress, int): \n",
    "        progress = float(progress)\n",
    "    if not isinstance(progress, float): \n",
    "        progress = 0\n",
    "    if progress < 0: \n",
    "        progress = 0\n",
    "    if progress >= 1: \n",
    "        progress = 1\n",
    "    block = int(round(nbar*progress))\n",
    "    \n",
    "    clear_output(wait = True)\n",
    "    prog = \"Progress: [{0}] {1:.1f}%\"\n",
    "    print(prog.format(\"#\"*block+\"-\"*(nbar-block), progress*100))"
   ]
  },
  {
   "cell_type": "markdown",
   "metadata": {},
   "source": [
    "#### THIS LOOP IS TOO SLOW\n",
    "\n",
    "Loop over pixels and write valid data to text file:"
   ]
  },
  {
   "cell_type": "code",
   "execution_count": null,
   "metadata": {},
   "outputs": [],
   "source": [
    "npixel = 0\n",
    "\n",
    "tmpds = ds[\"BRDF_Albedo_Parameters_Band1\"]\n",
    "\n",
    "# open output table for writing\n",
    "with open(\"result/band1_black_2018.dat\", \"w\") as f:\n",
    "    \n",
    "    # iterate over rows\n",
    "    for i in range(0, tmpds.y.size):\n",
    "        \n",
    "        # iterate over columns\n",
    "        for j in range(0, tmpds.x.size):\n",
    "        \n",
    "            # select pixel\n",
    "            tmp = tmpds.isel(x=i, y=j)\n",
    "            \n",
    "            # if mask value == True (valid data)\n",
    "            if tmp.coords[\"mask\"]:\n",
    "                \n",
    "                # join row items with tabs and write\n",
    "                f.write(\"\\t\".join([\n",
    "                    str(npixel),\n",
    "                    str(tmp.lat.data),\n",
    "                    str(tmp.lon.data),\n",
    "                    \"\\t\".join([str(v) for v in tmp.data])]) + \"\\n\")\n",
    "            \n",
    "            # update progress bar\n",
    "            update_progress((i * tmpds.y.size + j) / tmpds.xyindex.size)\n",
    "\n",
    "update_progress(1) # done"
   ]
  }
 ],
 "metadata": {
  "kernelspec": {
   "display_name": "Python 3",
   "language": "python",
   "name": "python3"
  },
  "language_info": {
   "codemirror_mode": {
    "name": "ipython",
    "version": 3
   },
   "file_extension": ".py",
   "mimetype": "text/x-python",
   "name": "python",
   "nbconvert_exporter": "python",
   "pygments_lexer": "ipython3",
   "version": "3.7.3"
  },
  "toc": {
   "base_numbering": 1,
   "nav_menu": {},
   "number_sections": true,
   "sideBar": true,
   "skip_h1_title": true,
   "title_cell": "Table of Contents",
   "title_sidebar": "Contents",
   "toc_cell": true,
   "toc_position": {},
   "toc_section_display": true,
   "toc_window_display": true
  }
 },
 "nbformat": 4,
 "nbformat_minor": 2
}
