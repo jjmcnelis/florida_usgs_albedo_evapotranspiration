{
 "cells": [
  {
   "cell_type": "markdown",
   "metadata": {},
   "source": [
    "# Introduction (draft)\n",
    "\n",
    "This notebook assumes no prior knowledge of the concepts required for the albedos calc.\n",
    "\n",
    "## MCD43A1\n",
    "\n",
    "### Subdatasets\n",
    "\n",
    "These SDSs are BRDF_Albedo_Parameters (three model parameters representing fiso, fvol, fgeo for the RossThickLiSparseReciprocal BRDF model that are computed for bands 1-7 and three broad bands), and BRDF_Albedo_Band_Mandatory_Quality* (containing 1 byte  of quality flags).\n",
    "```\n",
    "The MODIS BRDF/Albedo/NBAR product (MCD43) is led by Professor Crystal Schaaf at UMass Boston. \n",
    "* [User Guide](https://www.umb.edu/spectralmass/terra_aqua_modis/modis_brdf_albedo_product_mcd43) \n",
    "for the complete MCD43 User Guide. \n",
    "* [Albedo (HDF) source code](proc/actual_albedo_tool/actual_albedo_tool.tar.gz) \n",
    "for computing black, white, and blue sky albedo from the BRDF parameters (MCD43A1) is available at the lab's [ftp site](ftp://rsftp.eeos.umb.edu/data01/Website/actual_albedo_tool.tar.gz). \n",
    "* [source code readme](proc/actual_albedo_tool/albedo/readme)\n",
    "I implemented the albedo algorithms in Python using the refactored equations given in the \n",
    "```\n",
    "\n",
    "### Terms\n",
    "\n",
    "**BRDF:** Bidirectional Reflectance Distribution Function           \n",
    "...\n",
    "\n",
    "## Retrieve daily BRDF parameters \n",
    "\n",
    "From AppEEARS in this case... Details coming soon...\n",
    "\n",
    "**Request the 2018 BRDF Parameters**: [data/MCD43A1-Florida-2018-request.json](data/MCD43A1-Florida-2018-request.json)"
   ]
  },
  {
   "cell_type": "code",
   "execution_count": 9,
   "metadata": {},
   "outputs": [
    {
     "name": "stdout",
     "output_type": "stream",
     "text": [
      "{\n",
      "  \"error\": null,\n",
      "  \"status\": \"processing\",\n",
      "  \"created\": \"2019-06-21T17:00:02.310429\",\n",
      "  \"task_id\": \"f9ecaf4c-4eee-4236-beee-50fcfeb50963\",\n",
      "  \"updated\": \"2019-06-21T18:07:07.768944\",\n",
      "  \"user_id\": \"jjmcnelis@outlook.com\",\n",
      "  \"retry_at\": null,\n",
      "  \"task_name\": \"MCD43A1_Florida_2018\",\n",
      "  \"task_type\": \"area\",\n",
      "  \"api_version\": null,\n",
      "  \"svc_version\": \"2.23\",\n",
      "  \"web_version\": \"2.23\",\n",
      "  \"expires_on\": \"2019-07-21T18:07:07.768944\",\n",
      "  \"attempts\": 1\n",
      "}\n"
     ]
    }
   ],
   "source": [
    "import json\n",
    "with open(\"data/MCD43A1-Florida-2018-request.json\", \"r\") as f:\n",
    "    d = {k:v for k,v in json.load(f).items() if k!=\"params\"}\n",
    "    print(json.dumps(d, indent=2))"
   ]
  },
  {
   "cell_type": "markdown",
   "metadata": {},
   "source": [
    "\n",
    "\n",
    "### Not data files \n",
    "```\n",
    "MCD43A1-Florida-2018-MCD43A1-006-metadata.xml \tISO 19115 Metadata\n",
    "MCD43A1-Florida-2018-granule-list.txt \t\t\tURLs for all source data\n",
    "README.txt \t\t\t\t\t\t\t\t\t   Instructions/details about the request\n",
    "MCD43A1-Florida-2018-request.json \t\t\t\tJSON to create a new request\n",
    "```\n",
    "\n",
    "The json [*MCD43A1-Florida-2018-request.json*](data/MCD43A1-Florida-2018-request.json) can be uploaded to AppEEARS to order an identical subset to the one used in the next notebook.\n",
    "\n",
    "## Data quality\n",
    "\n",
    "Reference: https://lpdaac.usgs.gov/products/mcd43a1v006/\n",
    "\n",
    "Fortunately, MCD43 quality flags are as simple as they come (for MODIS):\n",
    "```\n",
    "Value \tDescription\n",
    "0 \t    Processed; good quality (full BRDF inversions)\n",
    "1 \t    Processed; see other QA (magnitude BRDF inversions)\n",
    "2 \t    Processed; good quality (full BRDF inversions); Band 6 filled; dead or noisy detectors\n",
    "3 \t    Processed; see other QA (magnitude BRDF inversions); Band 6 filled; dead or noisy detectors\n",
    "255 \tFill Value\n",
    "```\n",
    "\n",
    "### Ancillary files\n",
    "\n",
    "<table>\n",
    "    <col width=\"130\">\n",
    "    <col width=\"80\">\n",
    "    <thead>\n",
    "        <tr>\n",
    "            <th style=\"text-align: left;\">File</th>\n",
    "            <th style=\"text-align: left;\">Description</th>\n",
    "        </tr>\n",
    "    </thead>\n",
    "    <tbody>\n",
    "        <tr>\n",
    "            <td><i>MCD43A1-006-BRDF-Albedo-Band-Mandatory-Quality-<b>BAND</b>-Statistics-QA.csv</i></td>\n",
    "            <td>Statistics for quality layers</td>\n",
    "        </tr>\n",
    "         <tr>\n",
    "            <td><i>MCD43A1-006-BRDF-Albedo-Band-Mandatory-Quality-<b>BAND</b>-lookup.csv</i></td>\n",
    "            <td>Lookup for quality bits</td>\n",
    "        </tr>\n",
    "    </tbody>\n",
    "</table>\n",
    "\n",
    "```\n",
    "MCD43A1-006-BRDF-Albedo-Band-Mandatory-Quality-Band1-Statistics-QA.csv\t\n",
    "MCD43A1-006-BRDF-Albedo-Band-Mandatory-Quality-Band1-lookup.csv\t\t\n",
    "MCD43A1-006-BRDF-Albedo-Band-Mandatory-Quality-Band2-Statistics-QA.csv\t\n",
    "MCD43A1-006-BRDF-Albedo-Band-Mandatory-Quality-Band2-lookup.csv\t\t\n",
    "MCD43A1-006-BRDF-Albedo-Band-Mandatory-Quality-Band3-Statistics-QA.csv\t\n",
    "MCD43A1-006-BRDF-Albedo-Band-Mandatory-Quality-Band3-lookup.csv\t\t\n",
    "MCD43A1-006-BRDF-Albedo-Band-Mandatory-Quality-Band4-Statistics-QA.csv\t\n",
    "MCD43A1-006-BRDF-Albedo-Band-Mandatory-Quality-Band4-lookup.csv\t\t\n",
    "MCD43A1-006-BRDF-Albedo-Band-Mandatory-Quality-Band5-Statistics-QA.csv\t\n",
    "MCD43A1-006-BRDF-Albedo-Band-Mandatory-Quality-Band5-lookup.csv\t\t\n",
    "MCD43A1-006-BRDF-Albedo-Band-Mandatory-Quality-Band6-Statistics-QA.csv\t\n",
    "MCD43A1-006-BRDF-Albedo-Band-Mandatory-Quality-Band6-lookup.csv\t\t\n",
    "MCD43A1-006-BRDF-Albedo-Band-Mandatory-Quality-Band7-Statistics-QA.csv\t\n",
    "MCD43A1-006-BRDF-Albedo-Band-Mandatory-Quality-Band7-lookup.csv\t\t\n",
    "MCD43A1-006-BRDF-Albedo-Band-Mandatory-Quality-nir-Statistics-QA.csv\t\n",
    "MCD43A1-006-BRDF-Albedo-Band-Mandatory-Quality-nir-lookup.csv\t\t\t\n",
    "MCD43A1-006-BRDF-Albedo-Band-Mandatory-Quality-shortwave-Statistics-QA.csv\n",
    "MCD43A1-006-BRDF-Albedo-Band-Mandatory-Quality-shortwave-lookup.csv\t\n",
    "MCD43A1-006-BRDF-Albedo-Band-Mandatory-Quality-vis-Statistics-QA.csv\t\t\n",
    "MCD43A1-006-BRDF-Albedo-Band-Mandatory-Quality-vis-lookup.csv\t\n",
    "```\n",
    "\n",
    "### Next\n",
    "\n",
    "\n",
    "## Albedo\n",
    "\n",
    "### User Guide\n",
    "https://www.umb.edu/spectralmass/terra_aqua_modis/v006/mcd43a1_brdif_albedo_model_parameters_product\n",
    "\n",
    "### Black sky albedo \n",
    "\n",
    "#### Constants\n",
    "\n",
    "<table width=\"50%\">\n",
    "<tr>\n",
    "<th>Term</td>\n",
    "<th>Isotropic (iso)</th>\n",
    "<th>RossThick (vol)</th>\n",
    "<th>LiSparseR (geo)</th>\n",
    "</tr>\n",
    "<tr>\n",
    "<td>g<sub>0</sub></td>\n",
    "<td>&nbsp;1.0</td>\n",
    "<td>-0.007574</td>\n",
    "<td>-1.284909</td>\n",
    "</tr>\n",
    "<tr>\n",
    "<td>g<sub>1</sub></td>\n",
    "<td>&nbsp;0.0</td>\n",
    "<td>-0.070987</td>\n",
    "<td>-0.166314</td>\n",
    "</tr>\n",
    "<tr>\n",
    "<td>g<sub>2</sub></td>\n",
    "<td>&nbsp;0.0</td>\n",
    "<td>&nbsp; &nbsp;0.307588</td>\n",
    "<td>&nbsp; &nbsp;0.041840</td>\n",
    "</tr>\n",
    "</table>\n",
    "\n",
    "\n",
    "#### Equation\n",
    "![bsa](https://www.umb.edu/editor_uploads/images/csm_eeos/images/eqn2small.jpg)\n",
    "\n",
    "### White sky albedo\n",
    "\n",
    "#### Constants\n",
    "\n",
    "<table width=\"50%\">\n",
    "<tr>\n",
    "<th>Term</td>\n",
    "<th>Isotropic (iso)</th>\n",
    "<th>RossThick (vol)</th>\n",
    "<th>LiSparseR (geo)</th>\n",
    "</tr>\n",
    "<tr>\n",
    "<td>White-sky<br>\n",
    "integral <i>g</i></td>\n",
    "<td>&nbsp;1.0</td>\n",
    "<td>&nbsp;0.189184</td>\n",
    "<td>-1.377622</td>\n",
    "</tr>\n",
    "</table>\n",
    "\n",
    "\n",
    "\n",
    "#### Equation\n",
    "![wsa](https://www.umb.edu/editor_uploads/images/csm_eeos/images/eqn3small.jpg)\n"
   ]
  },
  {
   "cell_type": "markdown",
   "metadata": {},
   "source": []
  },
  {
   "cell_type": "markdown",
   "metadata": {},
   "source": [
    "### Blue sky Albedo\n",
    "\n",
    "Continue..."
   ]
  },
  {
   "cell_type": "markdown",
   "metadata": {},
   "source": [
    "## Calculate solar angles at local noon\n",
    "\n",
    "These calculations were harvested from: \n",
    "http://holbert.faculty.asu.edu/eee463/SolarCalcs.pdf\n",
    "\n",
    "The ORNL DAAC uses an executable that is probably ten years old and we don't have the source code! So, the longest step in this process was determining which equations would yield the same result as that executable. Very frustrating. Nonetheless, I'm very confident in the result. \n",
    "\n",
    "Import `math.radians` and `math.cos` for the calculation:"
   ]
  },
  {
   "cell_type": "code",
   "execution_count": 4,
   "metadata": {},
   "outputs": [],
   "source": [
    "from math import radians, cos"
   ]
  },
  {
   "cell_type": "markdown",
   "metadata": {},
   "source": [
    "### Declination angle\n",
    "\n",
    "https://sciencing.com/calculate-suns-declination-6904335.html"
   ]
  },
  {
   "cell_type": "code",
   "execution_count": 7,
   "metadata": {},
   "outputs": [
    {
     "data": {
      "text/plain": [
       "0.9863013698630136"
      ]
     },
     "execution_count": 7,
     "metadata": {},
     "output_type": "execute_result"
    }
   ],
   "source": [
    "doy = 166                  # day of the year    \n",
    "diy = 365                  # number of days in the year\n",
    "deg_rot_per_day = 360/diy  # degree of rotation per day\n",
    "abs_max_decl = 23.44       # absolute |maximum declination angle|\n",
    "\n",
    "deg_rot_per_day"
   ]
  },
  {
   "cell_type": "markdown",
   "metadata": {},
   "source": [
    "Get cosine of x and multiple it by the negative of the max lat (axial tilt, -23.44) to get solar declination in degrees:"
   ]
  },
  {
   "cell_type": "code",
   "execution_count": 8,
   "metadata": {},
   "outputs": [
    {
     "data": {
      "text/plain": [
       "23.293419845424015"
      ]
     },
     "execution_count": 8,
     "metadata": {},
     "output_type": "execute_result"
    }
   ],
   "source": [
    "decl = cos(radians((doy+10)*deg_rot_per_day))*-abs_max_decl\n",
    "decl"
   ]
  },
  {
   "cell_type": "markdown",
   "metadata": {},
   "source": [
    "### Solar zenith angle\n",
    "The sum of the solar zenith angle and the solar altitude angle equal 90 degrees. In the northern hemisphere, get the solar altitude angle by subtracting latitude from 90 and summing with the declination angle. \n",
    "\n",
    "Compute SZA at 35 degrees latitude on day of the year 166. First get the declination:"
   ]
  },
  {
   "cell_type": "code",
   "execution_count": 9,
   "metadata": {},
   "outputs": [
    {
     "data": {
      "text/plain": [
       "23.303357311228375"
      ]
     },
     "execution_count": 9,
     "metadata": {},
     "output_type": "execute_result"
    }
   ],
   "source": [
    "lat, doy, ndoy = 35., 166., 365\n",
    "decl = cos(radians((doy+10)*(360/ndoy)))*-23.45\n",
    "\n",
    "decl"
   ]
  },
  {
   "cell_type": "markdown",
   "metadata": {},
   "source": [
    "Now get solar altitude angle:"
   ]
  },
  {
   "cell_type": "code",
   "execution_count": 44,
   "metadata": {},
   "outputs": [
    {
     "data": {
      "text/plain": [
       "78.30335731122838"
      ]
     },
     "execution_count": 44,
     "metadata": {},
     "output_type": "execute_result"
    }
   ],
   "source": [
    "solar_alt = 90. - lat + decl\n",
    "\n",
    "solar_alt"
   ]
  },
  {
   "cell_type": "markdown",
   "metadata": {},
   "source": [
    "Now subtract solar altitude from 90 to get the solar zenith angle:"
   ]
  },
  {
   "cell_type": "code",
   "execution_count": 45,
   "metadata": {},
   "outputs": [
    {
     "data": {
      "text/plain": [
       "11.696642688771618"
      ]
     },
     "execution_count": 45,
     "metadata": {},
     "output_type": "execute_result"
    }
   ],
   "source": [
    "solar_zen = 90. - solar_alt\n",
    "\n",
    "solar_zen"
   ]
  },
  {
   "cell_type": "markdown",
   "metadata": {},
   "source": [
    "As a function:"
   ]
  },
  {
   "cell_type": "code",
   "execution_count": 46,
   "metadata": {},
   "outputs": [
    {
     "data": {
      "text/plain": [
       "11.696642688771618"
      ]
     },
     "execution_count": 46,
     "metadata": {},
     "output_type": "execute_result"
    }
   ],
   "source": [
    "def get_solar_zenith(latitude, doy, ndoy=365):\n",
    "    \"\"\" \"\"\"\n",
    "    declination = cos(radians((doy+10)*(360/ndoy)))*-23.45\n",
    "    solar_altitude = 90 - latitude + declination\n",
    "    solar_zenith = 90 - solar_altitude\n",
    "    return(solar_zenith)\n",
    "    \n",
    "get_solar_zenith(35, 166)"
   ]
  },
  {
   "cell_type": "markdown",
   "metadata": {},
   "source": [
    "The result matches the output from the solar zenith calculator used by ORNL DAAC:\n",
    "```shell\n",
    "[jnd@daacmodis1 plug_1]$ ./local_szn.1.exe 35 166\n",
    "lat 35.0000000 day 166 lzsn 11.696643\n",
    "```"
   ]
  }
 ],
 "metadata": {
  "kernelspec": {
   "display_name": "Python 3",
   "language": "python",
   "name": "python3"
  },
  "language_info": {
   "codemirror_mode": {
    "name": "ipython",
    "version": 3
   },
   "file_extension": ".py",
   "mimetype": "text/x-python",
   "name": "python",
   "nbconvert_exporter": "python",
   "pygments_lexer": "ipython3",
   "version": "3.7.3"
  },
  "toc": {
   "base_numbering": 1,
   "nav_menu": {},
   "number_sections": true,
   "sideBar": true,
   "skip_h1_title": true,
   "title_cell": "Table of Contents",
   "title_sidebar": "Contents",
   "toc_cell": false,
   "toc_position": {},
   "toc_section_display": true,
   "toc_window_display": true
  }
 },
 "nbformat": 4,
 "nbformat_minor": 2
}
