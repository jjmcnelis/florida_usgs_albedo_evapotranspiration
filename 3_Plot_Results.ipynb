{
 "cells": [
  {
   "cell_type": "markdown",
   "metadata": {},
   "source": [
    "# Plotting\n",
    "\n",
    "```python\n",
    "import cartopy.crs as ccrs\n",
    "\n",
    "bsamo.plot.pcolormesh(\n",
    "    'xdim', \n",
    "    'ydim', \n",
    "    col='month', \n",
    "    col_wrap=3, \n",
    "    robust=True, \n",
    "    figsize=(16,18),\n",
    "    #transform=ccrs.Sinusoidal(),\n",
    "    #subplot_kws={'projection': ccrs.Sinusoidal(-82, 28)}\n",
    ")\n",
    "\n",
    "ax.set_yticklabels([])\n",
    "ax.set_xticklabels([])\n",
    "\n",
    "###########################3\n",
    "\n",
    "bsa[0].plot.pcolormesh(x='x', y='y', robust=True, figsize=(10, 9),)\n",
    "wsa[0].plot.pcolormesh(x='x', y='y', robust=True, figsize=(10, 9),)\n",
    "alb[0].plot.pcolormesh(x='x', y='y', robust=True, figsize=(10, 9),)\n",
    "\n",
    "```"
   ]
  },
  {
   "cell_type": "code",
   "execution_count": 4,
   "metadata": {},
   "outputs": [
    {
     "data": {
      "text/plain": [
       "<xarray.Dataset>\n",
       "Dimensions:             (time: 365, x: 1336, y: 1555)\n",
       "Coordinates:\n",
       "    lat                 (y, x) float64 ...\n",
       "    lon                 (y, x) float64 ...\n",
       "  * x                   (x) float64 -8.404e+06 -8.403e+06 ... -7.785e+06\n",
       "  * time                (time) object 2018-01-01 00:00:00 ... 2018-12-31 00:00:00\n",
       "  * y                   (y) float64 3.447e+06 3.447e+06 ... 2.728e+06 2.727e+06\n",
       "    month               (time) int64 ...\n",
       "Data variables:\n",
       "    solar_zenith_angle  (time, y, x) float64 ...\n",
       "Attributes:\n",
       "    title:        MCD43A1.006 for aid0001\n",
       "    Conventions:  CF-1.6\n",
       "    institution:  Land Processes Distributed Active Archive Center (LP DAAC)\n",
       "    source:       AppEEARS v2.23\n",
       "    references:   See README.txt\n",
       "    history:      See README.txt"
      ]
     },
     "execution_count": 4,
     "metadata": {},
     "output_type": "execute_result"
    }
   ],
   "source": [
    "%matplotlib inline\n",
    "import xarray as xr\n",
    "\n",
    "import cartopy.feature as feat\n",
    "import cartopy.crs as ccrs\n",
    "import matplotlib.pyplot as plt\n",
    "import matplotlib\n",
    "matplotlib.rc('font', **{\n",
    "    'family': 'normal', \n",
    "    'weight': 'normal', \n",
    "    'size': 16})\n",
    "\n",
    "bands = [\n",
    "    \"BRDF_Albedo_Parameters_Band1\",\n",
    "    \"BRDF_Albedo_Parameters_Band2\",\n",
    "    \"BRDF_Albedo_Parameters_Band3\",\n",
    "    \"BRDF_Albedo_Parameters_Band4\",\n",
    "    \"BRDF_Albedo_Parameters_Band5\",\n",
    "    \"BRDF_Albedo_Parameters_Band6\",\n",
    "    \"BRDF_Albedo_Parameters_Band7\",\n",
    "    \"BRDF_Albedo_Parameters_nir\",\n",
    "    \"BRDF_Albedo_Parameters_shortwave\",\n",
    "    \"BRDF_Albedo_Parameters_vis\",\n",
    "]\n",
    "\n",
    "ds = xr.open_dataset(\"Albedos2018.nc\")\n",
    "ds"
   ]
  },
  {
   "cell_type": "markdown",
   "metadata": {},
   "source": [
    "## band 1\n",
    "\n",
    "### seasons\n",
    "Three-monthly: `['DJF', 'MAM', 'JJA', 'SON']`"
   ]
  },
  {
   "cell_type": "code",
   "execution_count": 7,
   "metadata": {},
   "outputs": [
    {
     "data": {
      "text/plain": [
       "<xarray.Dataset>\n",
       "Dimensions:           (time: 365, x: 1336, y: 1555)\n",
       "Coordinates:\n",
       "  * x                 (x) float64 -8.404e+06 -8.403e+06 ... -7.785e+06\n",
       "  * y                 (y) float64 3.447e+06 3.447e+06 ... 2.728e+06 2.727e+06\n",
       "    lat               (y, x) float64 ...\n",
       "    lon               (y, x) float64 ...\n",
       "  * time              (time) object 2018-01-01 00:00:00 ... 2018-12-31 00:00:00\n",
       "    month             (time) int64 ...\n",
       "Data variables:\n",
       "    blue_sky_albedo   (time, y, x) float64 ...\n",
       "    black_sky_albedo  (time, y, x) float64 ...\n",
       "    white_sky_albedo  (time, y, x) float32 ..."
      ]
     },
     "execution_count": 7,
     "metadata": {},
     "output_type": "execute_result"
    }
   ],
   "source": [
    "b1 = xr.open_dataset(\"Albedos2018.nc\", group=\"BRDF_Albedo_Parameters_Band1\")\n",
    "b1"
   ]
  },
  {
   "cell_type": "code",
   "execution_count": 9,
   "metadata": {},
   "outputs": [
    {
     "data": {
      "text/plain": [
       "<xarray.Dataset>\n",
       "Dimensions:           (time: 365)\n",
       "Coordinates:\n",
       "  * time              (time) object 2018-01-01 00:00:00 ... 2018-12-31 00:00:00\n",
       "    month             (time) int64 1 1 1 1 1 1 1 1 1 ... 12 12 12 12 12 12 12 12\n",
       "Data variables:\n",
       "    blue_sky_albedo   (time) float64 5.677e-05 5.676e-05 ... 5.731e-05 5.76e-05\n",
       "    black_sky_albedo  (time) float64 5.669e-05 5.668e-05 ... 5.723e-05 5.752e-05\n",
       "    white_sky_albedo  (time) float32 5.795532e-05 5.797185e-05 ... 5.883568e-05\n",
       "    season            (time) <U3 'DJF' 'DJF' 'DJF' 'DJF' ... 'DJF' 'DJF' 'DJF'"
      ]
     },
     "execution_count": 9,
     "metadata": {},
     "output_type": "execute_result"
    }
   ],
   "source": [
    "b1means = b1.groupby(\"time.season\").mean([\"x\",\"y\"])\n",
    "b1means"
   ]
  },
  {
   "cell_type": "code",
   "execution_count": 13,
   "metadata": {},
   "outputs": [
    {
     "data": {
      "text/plain": [
       "[<matplotlib.lines.Line2D at 0x7fbd50da5f60>]"
      ]
     },
     "execution_count": 13,
     "metadata": {},
     "output_type": "execute_result"
    },
    {
     "data": {
      "image/png": "[encoded data removed]",
      "text/plain": [
       "<Figure size 720x288 with 1 Axes>"
      ]
     },
     "metadata": {
      "needs_background": "light"
     },
     "output_type": "display_data"
    }
   ],
   "source": [
    "b1means[\"black_sky_albedo\"].plot(figsize=(10,4))\n",
    "b1means[\"white_sky_albedo\"].plot()\n",
    "b1means[\"blue_sky_albedo\"].plot()"
   ]
  },
  {
   "cell_type": "markdown",
   "metadata": {},
   "source": [
    "## b"
   ]
  },
  {
   "cell_type": "code",
   "execution_count": null,
   "metadata": {},
   "outputs": [],
   "source": []
  },
  {
   "cell_type": "markdown",
   "metadata": {},
   "source": [
    "## c"
   ]
  },
  {
   "cell_type": "code",
   "execution_count": null,
   "metadata": {},
   "outputs": [],
   "source": []
  },
  {
   "cell_type": "markdown",
   "metadata": {},
   "source": [
    "## d"
   ]
  },
  {
   "cell_type": "code",
   "execution_count": null,
   "metadata": {},
   "outputs": [],
   "source": []
  },
  {
   "cell_type": "markdown",
   "metadata": {},
   "source": [
    "## e"
   ]
  },
  {
   "cell_type": "code",
   "execution_count": null,
   "metadata": {},
   "outputs": [],
   "source": []
  },
  {
   "cell_type": "markdown",
   "metadata": {},
   "source": [
    "## f"
   ]
  }
 ],
 "metadata": {
  "kernelspec": {
   "display_name": "Python 3",
   "language": "python",
   "name": "python3"
  },
  "language_info": {
   "codemirror_mode": {
    "name": "ipython",
    "version": 3
   },
   "file_extension": ".py",
   "mimetype": "text/x-python",
   "name": "python",
   "nbconvert_exporter": "python",
   "pygments_lexer": "ipython3",
   "version": "3.7.3"
  },
  "toc": {
   "base_numbering": 1,
   "nav_menu": {},
   "number_sections": true,
   "sideBar": true,
   "skip_h1_title": true,
   "title_cell": "Table of Contents",
   "title_sidebar": "Contents",
   "toc_cell": false,
   "toc_position": {},
   "toc_section_display": true,
   "toc_window_display": true
  }
 },
 "nbformat": 4,
 "nbformat_minor": 2
}
